{
 "cells": [
  {
   "cell_type": "markdown",
   "metadata": {},
   "source": [
    "[//]: <> (Authors:)\n",
    "[//]: <> (Bob Clapp and Thomas Cullison)\n",
    "[//]: <> (Stanford University, 2023)\n",
    "\n",
    "\n",
    "# Python logging and argparse modules \n",
    "\n",
    "<br>\n",
    "\n",
    "## Summary\n",
    "In this lab you will  work with two important skills when it comes to writing code. The first is how to instrument your code to do logging. The second is how to write a command line interface to your code.\n",
    "\n",
    "## logging module\n",
    "The Python logging module provides a flexible and powerful way to log messages from your application. It allows you to log messages with different levels of severity, such as debug, info, warning, error, and critical, and to direct those messages to different output destinations, such as a file, the console, or a remote server.\n",
    "\n",
    "Some reasons to use the logging module in your application include:\n",
    "\n",
    "- Separation of concerns: By using the logging module, you can separate the logging functionality from the rest of your application's code. This makes it easier to maintain and update your code, as you can focus on the functionality of your application rather than worrying about how the logs are being generated and stored.\n",
    "\n",
    "- Flexibility: The logging module allows you to configure the logging behavior of your application at runtime. You can change the log level, the output destination, and the format of the log messages without having to modify your application's code.\n",
    "\n",
    "- Debugging and troubleshooting: The logging module allows you to log messages with different levels of severity, which can be useful for debugging and troubleshooting. For example, you can log detailed debug messages while developing your application, and then turn off those messages and only log info, warning, and error messages in production.\n",
    "\n",
    "- Auditing and compliance: The logging module can also be used for auditing and compliance purposes. You can log important events in your application, such as user login and logout, and use the logs to track user activity and ensure compliance with regulatory requirements.\n",
    "\n",
    "- Centralized logging: The logging module allows you to centralize the logging of your application, this way you can have all the logs in one place and make it easier to troubleshoot and monitor the system.\n",
    "\n",
    "Overall, the Python logging module is a powerful and flexible tool that can help you improve the quality and maintainability of your code, as well as aid in debugging, troubleshooting, and compliance.<br><br>\n",
    "\n",
    "#### Below is a simple coding exercise that demonstrates how to use the Python logging module:"
   ]
  },
  {
   "cell_type": "code",
   "execution_count": null,
   "metadata": {},
   "outputs": [],
   "source": [
    "import logging\n",
    "\n",
    "# create a logger with the name 'my_logger'\n",
    "logger = logging.getLogger('my_logger')\n",
    "\n",
    "# set the log level to DEBUG\n",
    "logger.setLevel(logging.DEBUG)\n",
    "\n",
    "# create a file handler and set it to write to 'my_log.log'\n",
    "file_handler = logging.FileHandler('my_log.log')\n",
    "file_handler.setLevel(logging.DEBUG)\n",
    "\n",
    "# create a console handler and set it to print messages with level INFO and above\n",
    "console_handler = logging.StreamHandler()\n",
    "console_handler.setLevel(logging.INFO)\n",
    "\n",
    "# create a formatter and set it to format the log messages\n",
    "formatter = logging.Formatter('%(asctime)s - %(name)s - %(levelname)s - %(message)s')\n",
    "file_handler.setFormatter(formatter)\n",
    "console_handler.setFormatter(formatter)\n",
    "\n",
    "# add the handlers to the logger\n",
    "logger.addHandler(file_handler)\n",
    "logger.addHandler(console_handler)\n",
    "\n",
    "# log messages with different levels\n",
    "logger.debug('This is a debug message')\n",
    "logger.info('This is an info message')\n",
    "logger.warning('This is a warning message')\n",
    "logger.error('This is an error message')\n",
    "logger.critical('This is a critical message')"
   ]
  },
  {
   "cell_type": "markdown",
   "metadata": {},
   "source": [
    "In the above example, a logger named my_logger is created, and its log level is set to DEBUG. Then, two handlers are created: one that writes log messages to a file named my_log.log and the other one that prints the message to the console. Also, it's set that for the console handler only the message with level INFO and above will be printed.\n",
    "\n",
    "A formatter is also created, which formats the log messages to include the timestamp, logger name, log level, and log message. Then, the handlers are added to the logger and the log messages with different levels are sent to the handlers to be written/printed.\n",
    "\n",
    "In this way, you can separate the log files, set different levels for each handler and customize the log format. You can also use different loggers with different names and log to different files or even different sources."
   ]
  },
  {
   "cell_type": "markdown",
   "metadata": {},
   "source": [
    "## Argparse\n",
    "\n",
    "The Python argparse module provides a way to easily and flexibly handle command-line arguments passed to your script. It allows you to define the arguments your script accepts, specify their types, and assign them default values. It also provides a way to specify the help text that is shown when the script is run with the -h or --help option.\n",
    "\n",
    "Here are some reasons why you might want to use the argparse module in your script:\n",
    "\n",
    "- Easy to use and understand: The argparse module provides a simple and consistent interface for parsing command-line arguments. It takes care of the details of parsing command-line options, such as handling different types of arguments and generating error messages, which makes it easy to use and understand.\n",
    "- Flexibility: The argparse module allows you to specify different types of arguments, such as strings, integers, and booleans, and assign default values to them. You can also specify whether an argument is required or optional, and whether the argument should be a positional or optional argument.\n",
    "- Help text generation: The argparse module automatically generates help text for your script based on the arguments you've defined. It lists the arguments, their types, and their default values, making it easy for users to understand how to use your script.\n",
    "- Error handling: If a user provides invalid arguments, the argparse module will automatically generate error messages. This can help prevent confusion and improve the user experience.\n",
    "- Option groups: argparse allows you to group related options together and it's useful when you have many options and you want to group them in a logical way.\n",
    "- Sub-commands: argparse allows you to define sub-commands that have their own options and arguments, this is useful when you have a script that performs multiple tasks and each task has its own set of options and arguments.\n",
    "\n",
    "Overall, the argparse module is a powerful and flexible tool that can help you improve the usability and maintainability of your script by making it easy to handle command-line arguments, generating helpful error messages, and providing help text to users.<br><br>\n",
    "\n",
    "#### Below is a simple coding exercise that demonstrates how to use the Python argparse module:"
   ]
  },
  {
   "cell_type": "code",
   "execution_count": null,
   "metadata": {},
   "outputs": [],
   "source": [
    "import argparse\n",
    "\n",
    "# create the parser\n",
    "parser = argparse.ArgumentParser(description='A simple calculator')\n",
    "\n",
    "# add arguments to the parser\n",
    "parser.add_argument('--operation', type=str, choices=['add', 'subtract', 'multiply', 'divide'], required=True, help='The operation to perform')\n",
    "parser.add_argument('--first_number', type=float, required=True, help='The first number')\n",
    "parser.add_argument('--second_number', type=float, required=True, help='The second number')\n",
    "\n",
    "# parse the arguments\n",
    "args = parser.parse_args()\n",
    "\n",
    "# perform the operation\n",
    "if args.operation == 'add':\n",
    "    result = args.first_number + args.second_number\n",
    "elif args.operation == 'subtract':\n",
    "    result = args.first_number - args.second_number\n",
    "elif args.operation == 'multiply':\n",
    "    result = args.first_number * args.second_number\n",
    "elif args.operation == 'divide':\n",
    "    result = args.first_number / args.second_number\n",
    "\n",
    "# print the result\n",
    "print(result)"
   ]
  },
  {
   "cell_type": "markdown",
   "metadata": {},
   "source": [
    "In the above example, the argparse module is used to parse command-line arguments. A parser is created and a description of the program is provided. Then, three arguments are added to the parser: operation, first_number, and second_number. The first one is a string type, it's a required argument and it's limited to the choices add, subtract, multiply, divide. The other two arguements are both float type, and they are also required arguments.\n",
    "\n",
    "Once the arguments are parsed, the script performs the operation specified by the operation argument and prints the result.\n",
    "\n",
    "To run this script and pass in the arguments, you can call it from the command line like this:\n",
    "python calculator.py --operation add --first_number 5 --second_number 3\n",
    "\n",
    "You can also add defaults, mutually exclusive group of options, positional arguments, and many other options to customize your script.<br><br>"
   ]
  },
  {
   "cell_type": "markdown",
   "metadata": {},
   "source": [
    "## Exercise\n",
    "\n",
    "Write a math parser that works on numpy .npz files. For this math parser, you want to write code that can evaluate mathematical expressions. In the most basic form, this code should be able to evaluate an expression like “3+5\\*(2-1)” and return 8.  In your version, instead of parsing for numbers, you will be dealing with file names. For example, the above would change to “file3+file5\\*(file2-file1)”.  \n",
    "\n",
    "#### Include the following command line options in your code:\n",
    "\n",
    "- A required command line argument exp (for expression)\n",
    "- A required command line option outfile (where the output is written)\n",
    "- Accepts one to eight arguments of the form file1\n",
    "\n",
    "#### Also, you must instrument the code using the logging module.  \n",
    "\n",
    "At a minimum:\n",
    "- Log a fatal errors (and raise an exception) if a file doesn’t exist and the output file can not be opened\n",
    "- Give a fatal if an expression is not valid\n",
    "- Instrument with debug anytime a function is entered\n",
    "- Give an info message when files are read\n",
    "- Output all fatal errors to the command line, and output all debug errors to a file\n",
    "\n",
    "**Note:** The **makeVectors.py** function in the same repository as this notebook, will make several large vector files for you.  \n",
    "\n",
    "The code in the following repo link is a good place to start: https://github.com/gnebehay/parser"
   ]
  },
  {
   "cell_type": "code",
   "execution_count": null,
   "metadata": {},
   "outputs": [],
   "source": []
  }
 ],
 "metadata": {
  "kernelspec": {
   "display_name": "Python 3",
   "language": "python",
   "name": "python3"
  },
  "language_info": {
   "codemirror_mode": {
    "name": "ipython",
    "version": 3
   },
   "file_extension": ".py",
   "mimetype": "text/x-python",
   "name": "python",
   "nbconvert_exporter": "python",
   "pygments_lexer": "ipython3",
   "version": "3.8.8"
  }
 },
 "nbformat": 4,
 "nbformat_minor": 4
}
