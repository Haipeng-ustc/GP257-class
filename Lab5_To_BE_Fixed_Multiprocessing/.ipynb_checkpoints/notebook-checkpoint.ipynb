{
 "cells": [
  {
   "cell_type": "markdown",
   "id": "eb6f8ad0",
   "metadata": {},
   "source": [
    "# Multiprocessing\n",
    "\n",
    "\n",
    "In this lab you will learn a little about multiprocessing in python. For most of the lab we will be using the \"multiprocess\" package rather than multiprocessing. The python kernel interferes with the multiprocessing module.\n",
    "\n",
    "## Thread\n",
    "\n",
    "You can think of threads as a dumb, new program that by default knows nothing about the rest of our code. We can create this new worker using the \"Process\" function. We give the process a function to run and potentially arguments to that function.  We use the \"start\" function to tell the thread to begin and the \"join\" function when we want the thread to end.\n"
   ]
  },
  {
   "cell_type": "code",
   "execution_count": 90,
   "id": "8fe61d2f",
   "metadata": {},
   "outputs": [],
   "source": [
    "# !pip install multiprocess"
   ]
  },
  {
   "cell_type": "code",
   "execution_count": 91,
   "id": "d4e82d74",
   "metadata": {},
   "outputs": [
    {
     "name": "stdout",
     "output_type": "stream",
     "text": [
      "3.010148048400879\n"
     ]
    }
   ],
   "source": [
    "import multiprocess\n",
    "import time \n",
    "\n",
    "def wait_arround():\n",
    "    time.sleep(3)\n",
    "    \n",
    "process=multiprocess.Process(target=wait_arround,args=())\n",
    "process.start()\n",
    "starttime = time.time()\n",
    "process.join()\n",
    "print(time.time()-starttime)"
   ]
  },
  {
   "cell_type": "markdown",
   "id": "46050e6e",
   "metadata": {},
   "source": [
    "In the following cell start three different threads, all doing different tasks and join them at the end. In addition use the args parameter. For example I could have passed in the number of seconds to sleep in the above example."
   ]
  },
  {
   "cell_type": "code",
   "execution_count": 92,
   "id": "32519502-37ee-4e4a-b5d5-a7a793b88c5a",
   "metadata": {},
   "outputs": [
    {
     "name": "stdout",
     "output_type": "stream",
     "text": [
      "6.01194429397583\n"
     ]
    }
   ],
   "source": [
    "def wait_arround(t):\n",
    "    time.sleep(t)\n",
    "\n",
    "procs = []\n",
    "# instantiating process with arguments\n",
    "for i in range(4, 7): \n",
    "    proc=multiprocess.Process(target=wait_arround, args=(i,))\n",
    "    procs.append(proc)\n",
    "    proc.start()\n",
    "\n",
    "# complete the processes\n",
    "starttime = time.time()\n",
    "for proc in procs:\n",
    "    proc.join()\n",
    "\n",
    "print(time.time()-starttime)"
   ]
  },
  {
   "cell_type": "markdown",
   "id": "7a2f1451",
   "metadata": {},
   "source": [
    "## Locks\n",
    "\n",
    "Remember, each thread run completely independently.  This can cause problems. In the example below we are running three threads. Each thread is accessing the same file and updates it content by one.  Given that each thread is updating it by 1, the final result should be 3000. Run this cell several times and examine the result.\n"
   ]
  },
  {
   "cell_type": "code",
   "execution_count": 93,
   "id": "f616b172",
   "metadata": {},
   "outputs": [
    {
     "name": "stderr",
     "output_type": "stream",
     "text": [
      "Process Process-154:\n",
      "Traceback (most recent call last):\n",
      "  File \"/Users/haipeng/opt/miniconda3/lib/python3.9/site-packages/multiprocess/process.py\", line 315, in _bootstrap\n",
      "    self.run()\n",
      "  File \"/Users/haipeng/opt/miniconda3/lib/python3.9/site-packages/multiprocess/process.py\", line 108, in run\n",
      "    self._target(*self._args, **self._kwargs)\n",
      "Process Process-156:\n",
      "  File \"/var/folders/pm/r13f8d0d1sj22_6qw9cpgz5h0000gn/T/ipykernel_25067/3774967307.py\", line 10, in process_function\n",
      "    v=int(fl.read().strip())+1\n",
      "ValueError: invalid literal for int() with base 10: ''\n",
      "Traceback (most recent call last):\n",
      "  File \"/Users/haipeng/opt/miniconda3/lib/python3.9/site-packages/multiprocess/process.py\", line 315, in _bootstrap\n",
      "    self.run()\n",
      "  File \"/Users/haipeng/opt/miniconda3/lib/python3.9/site-packages/multiprocess/process.py\", line 108, in run\n",
      "    self._target(*self._args, **self._kwargs)\n",
      "  File \"/var/folders/pm/r13f8d0d1sj22_6qw9cpgz5h0000gn/T/ipykernel_25067/3774967307.py\", line 10, in process_function\n",
      "    v=int(fl.read().strip())+1\n",
      "ValueError: invalid literal for int() with base 10: ''\n"
     ]
    },
    {
     "name": "stdout",
     "output_type": "stream",
     "text": [
      "1015\n"
     ]
    }
   ],
   "source": [
    "import multiprocess\n",
    "\n",
    "fl=open(\"num.txt\",\"w\")\n",
    "fl.write(\"0\")\n",
    "fl.close()\n",
    "\n",
    "def process_function():\n",
    "    for i in range(1000):\n",
    "        fl=open(\"num.txt\")\n",
    "        v=int(fl.read().strip())+1\n",
    "        fl.close()\n",
    "        fl=open(\"num.txt\",\"w\")\n",
    "        fl.write(str(v))\n",
    "        fl.close()\n",
    "\n",
    "process_1 = multiprocess.Process(target=process_function, args=())\n",
    "process_2 = multiprocess.Process(target=process_function, args=())\n",
    "process_3 = multiprocess.Process(target=process_function, args=())\n",
    "\n",
    "process_1.start()\n",
    "process_2.start()\n",
    "process_3.start()\n",
    "process_1.join()\n",
    "process_2.join()\n",
    "process_3.join()\n",
    "\n",
    "fl=open(\"num.txt\")\n",
    "print(fl.read())"
   ]
  },
  {
   "cell_type": "markdown",
   "id": "7a521e81",
   "metadata": {},
   "source": [
    "You likely saw an error when running the cell. What do you think is going on?\n",
    "\n",
    "**Response**: Since multiple processes are used, conflicts occur when some process is writing the data while another process is trying to read the data."
   ]
  },
  {
   "cell_type": "markdown",
   "id": "ef64a9e9",
   "metadata": {},
   "source": [
    "The call multiprocess.Lock() return a lock object.  A process can ask to acquire a lock. Once it has acquired a lock it can proceed to the next line of the code. All other threads will pause until the can acquire the lock. Copy the code above into the next cell. Create a lock and then pass that lock object as an argument to the process_function. Figure out where to put the locks (inside the for loop) so you get the correct result."
   ]
  },
  {
   "cell_type": "code",
   "execution_count": 94,
   "id": "cf51ad42",
   "metadata": {},
   "outputs": [
    {
     "name": "stdout",
     "output_type": "stream",
     "text": [
      "3000\n",
      "Consumed Time 1.066861867904663\n"
     ]
    }
   ],
   "source": [
    "import multiprocess\n",
    "\n",
    "fl=open(\"num.txt\",\"w\")\n",
    "fl.write(\"0\")\n",
    "fl.close()\n",
    "\n",
    "def process_function(lock):\n",
    "    for i in range(1000):\n",
    "        with lock:\n",
    "            fl=open(\"num.txt\")\n",
    "            v=int(fl.read().strip())+1\n",
    "            fl.close()\n",
    "            fl=open(\"num.txt\",\"w\")\n",
    "            fl.write(str(v))\n",
    "            fl.close()\n",
    "\n",
    "# create a lock\n",
    "lock = multiprocess.Lock()\n",
    "        \n",
    "process_1 = multiprocess.Process(target=process_function, args=(lock,))\n",
    "process_2 = multiprocess.Process(target=process_function, args=(lock,))\n",
    "process_3 = multiprocess.Process(target=process_function, args=(lock,))\n",
    "\n",
    "starttime = time.time()\n",
    "\n",
    "process_1.start()\n",
    "process_2.start()\n",
    "process_3.start()\n",
    "process_1.join()\n",
    "process_2.join()\n",
    "process_3.join()\n",
    "\n",
    "fl=open(\"num.txt\")\n",
    "print(fl.read())\n",
    "\n",
    "print(\"Consumed Time\", time.time()-starttime)"
   ]
  },
  {
   "cell_type": "markdown",
   "id": "87668649",
   "metadata": {},
   "source": [
    "Calculate the time it takes to run your new improved cell.  Modify your code so a single thread, requiring no locks, does the same taks.  Document your results. You should see that the code with three threads is signficantly longer.  Locks are quite expensive and need to be used sparinly, but in some cases are necessary.\n"
   ]
  },
  {
   "cell_type": "code",
   "execution_count": 95,
   "id": "b034bd9c",
   "metadata": {},
   "outputs": [
    {
     "name": "stdout",
     "output_type": "stream",
     "text": [
      "3000\n",
      "Consumed Time 0.6561472415924072\n"
     ]
    }
   ],
   "source": [
    "# serial version of the above function\n",
    "# compare the time with the parallel version\n",
    "\n",
    "fl=open(\"num_serial.txt\",\"w\")\n",
    "fl.write(\"0\")\n",
    "fl.close()\n",
    "\n",
    "def process_function_serial():\n",
    "    for k in range(3):\n",
    "        for i in range(1000):\n",
    "            fl=open(\"num_serial.txt\")\n",
    "            v=int(fl.read().strip())+1\n",
    "            fl.close()\n",
    "            fl=open(\"num_serial.txt\",\"w\")\n",
    "            fl.write(str(v))\n",
    "            fl.close()\n",
    "            \n",
    "starttime = time.time()\n",
    "process_function_serial()\n",
    "\n",
    "fl=open(\"num_serial.txt\")\n",
    "print(fl.read())\n",
    "print(\"Consumed Time\", time.time()-starttime)"
   ]
  },
  {
   "cell_type": "markdown",
   "id": "dd9d6ed9",
   "metadata": {},
   "source": [
    "## Pool\n",
    "\n",
    "The multiprocessing library in Python provides a Pool class that can be used to create a pool of worker processes. A pool of worker processes can be used to perform computations in parallel, which can significantly speed up the execution time of a program.\n",
    "\n",
    "The Pool class can be used to create a pool of worker processes in the following way:\n"
   ]
  },
  {
   "cell_type": "code",
   "execution_count": 96,
   "id": "ccb8e346",
   "metadata": {},
   "outputs": [],
   "source": [
    "import time\n",
    "def dummy(sleepTime):\n",
    "    time.sleep(sleepTime)\n",
    "    \n",
    "with multiprocess.Pool(4) as pool:\n",
    "    # Code that uses the pool of worker processes goes here\n",
    "     pool.map(dummy, [3, 1, 3, 4])"
   ]
  },
  {
   "cell_type": "markdown",
   "id": "e33565d3",
   "metadata": {},
   "source": [
    "\n",
    "In this example, a pool of 4 worker processes is created. The with statement is used to ensure that the pool is properly closed and all worker processes are terminated when the block of code is finished executing.\n",
    "\n",
    "Once a pool of worker processes has been created, it can be used to perform computations in parallel using the following methods:\n",
    "\n",
    "apply(func, args, kwds): applies the function func to the arguments args and keyword arguments kwds using one of the worker processes in the pool. The method blocks until the result is returned.\n",
    "\n",
    "apply_async(func, args, kwds, callback): applies the function func to the arguments args and keyword arguments kwds using one of the worker processes in the pool. The method returns immediately and the result is returned using the callback function.\n",
    "\n",
    "map(func, iterable, chunksize): applies the function func to each element of the iterable in parallel, using the worker processes in the pool. The chunksize argument can be used to control the number of items to be processed by each worker at a time. The method blocks until the result is returned.\n",
    "\n",
    "map_async(func, iterable, chunksize, callback): applies the function func to each element of the iterable in parallel, using the worker processes in the pool. The chunksize argument can be used to control the number of items to be processed by each worker at a time. The method returns immediately and the result is returned using the callback function.\n",
    "\n",
    "\n"
   ]
  },
  {
   "cell_type": "markdown",
   "id": "23aed173",
   "metadata": {},
   "source": [
    "### Problem\n",
    "In the next cell is python code to caclulate pi. Using  multiprocces module parallelize the calculation.  You might want to also modify the function using what you've learned in class to run more efficiently."
   ]
  },
  {
   "cell_type": "code",
   "execution_count": 97,
   "id": "665d510e",
   "metadata": {},
   "outputs": [],
   "source": [
    "from numpy import random\n",
    "\n",
    "def calculate_pi(n_points):\n",
    "    count_points_in_circle = 0\n",
    "    for _ in range(n_points):\n",
    "        x = random.uniform(-1, 1)\n",
    "        y = random.uniform(-1, 1)\n",
    "        if x**2 + y**2 <= 1:\n",
    "            count_points_in_circle += 1\n",
    "    return 4 * count_points_in_circle / n_points"
   ]
  },
  {
   "cell_type": "code",
   "execution_count": 98,
   "id": "a0510b0b-c58d-4bd6-a727-065ba2b97b90",
   "metadata": {},
   "outputs": [
    {
     "name": "stdout",
     "output_type": "stream",
     "text": [
      "Serial pi:     3.14136\n",
      "Serial time:   0.440187931060791\n",
      "Parallel pi:   3.1402\n",
      "Parallel time: 0.3077850341796875\n"
     ]
    }
   ],
   "source": [
    "from numpy import random\n",
    "\n",
    "\n",
    "def check_in_circle(i):\n",
    "    random.seed(i)\n",
    "    x = random.uniform(-1, 1)\n",
    "    y = random.uniform(-1, 1)\n",
    "    return 1.0 * (x**2 + y**2 <= 1)\n",
    "\n",
    "\n",
    "def calculate_pi_parallel(n_points):\n",
    "    with multiprocess.Pool(4) as pool:\n",
    "        counts = pool.map(check_in_circle, range(n_points))\n",
    "    return 4 * sum(counts) / n_points\n",
    "\n",
    "\n",
    "n_points = 100000\n",
    "\n",
    "starttime = time.time()\n",
    "pi_serial = calculate_pi(n_points)\n",
    "print(f\"Serial pi:     {pi_serial}\")\n",
    "print(f\"Serial time:   {time.time()-starttime}\")\n",
    "\n",
    "starttime = time.time()\n",
    "pi_parallel = calculate_pi_parallel(n_points)\n",
    "print(f\"Parallel pi:   {pi_parallel}\")\n",
    "print(f\"Parallel time: {time.time()-starttime}\")"
   ]
  },
  {
   "cell_type": "markdown",
   "id": "66bc654c",
   "metadata": {},
   "source": [
    "## The problem with GIL\n",
    "\n",
    "The Global Interpreter Lock (GIL) is a mechanism in the CPython implementation of Python that prevents multiple native threads from executing Python bytecodes at once. This means that only one thread can execute Python code at a time, even on systems with multiple processors or cores. This can cause problems when trying to parallelize Python code, as it can limit the performance benefits of using multiple threads or processes.\n",
    "\n",
    "For example, if you have a program that performs a computationally expensive task, such as image processing or numerical simulation, and you use multiple threads to perform the task in parallel, the GIL will prevent the threads from executing the Python code in parallel. Instead, the threads will be interleaved, with only one thread executing Python code at a time. This can result in poor performance and a slow execution time, even on systems with multiple processors or cores.\n",
    "\n",
    "Additionally, Python libraries that are not written with thread safety in mind also can cause problems in parallelizing Python code. Many libraries use global variables or shared state in ways that are not thread-safe, which can lead to race conditions, data corruption, or other bugs when used in a multi-threaded environment.\n",
    "\n",
    "However, the GIL does not affect the execution of C extension modules which can release the GIL during execution, allowing other threads to run. So, using libraries that utilize C extension modules (such as numba) can help to overcome this limitation.\n",
    "\n"
   ]
  },
  {
   "cell_type": "markdown",
   "id": "df4bb113",
   "metadata": {},
   "source": [
    "## The pickling problem\n",
    "\n",
    "When you create a new process through mechanisms such as pool or thread all of the arguments to the subprocess are pickled.\n",
    "\n",
    "Pickling is the process of converting an object's state to a byte stream, which can then be stored or transmitted, and later reconstructed to create a new object with the same state. In the context of multiprocessing, pickling is used to pass objects between processes.\n",
    "\n",
    "Pickling can slow down multiprocessing for several reasons:\n",
    "\n",
    "Serialization overhead: The process of pickling an object to a byte stream, and later unpickling it to reconstruct the object, can add significant overhead to the execution time of a program. This overhead can be particularly pronounced when passing large or complex objects between processes.\n",
    "\n",
    "Inter-process communication (IPC) overhead: Pickling and unpickling objects also adds overhead to inter-process communication (IPC), as the objects need to be serialized and transmitted between processes. This can slow down the overall performance of a program that uses multiprocessing.\n",
    "\n",
    "Data duplication: When an object is pickled and sent to another process, a new copy of the object is created in the destination process. This can cause memory issues when passing large data structures.\n",
    "\n",
    "Limited pickleability: Certain types of objects can not be pickled, such as functions, methods, and certain types of variables. This can make it difficult to pass these types of objects between processes, and can limit the functionality of multiprocessing.\n",
    "\n",
    "Security risks: Pickling and unpickling data can also create security risks, as it can be used to execute malicious code."
   ]
  },
  {
   "cell_type": "markdown",
   "id": "3af63eea",
   "metadata": {},
   "source": [
    "### Problem\n",
    "\n",
    "The above two issues can make some things nearly impossible to parallelize in python until recently. For example, imagine you need to caculate the traveltime from a many different point to a volume.  This often a necessary step in Kirchhoff migration.\n",
    "\n",
    "The fast marching eikonal method is by far the fastest approach. In the next cell we will build a simple slowness model and then use the fast marching solver to caculate and plot the traveltimes. The way this module works also requires supply an array where all the values are 1 except at the source location."
   ]
  },
  {
   "cell_type": "code",
   "execution_count": 134,
   "id": "27aba9f7",
   "metadata": {},
   "outputs": [
    {
     "data": {
      "text/plain": [
       "<matplotlib.image.AxesImage at 0x7fd75c0f5490>"
      ]
     },
     "execution_count": 134,
     "metadata": {},
     "output_type": "execute_result"
    },
    {
     "data": {
      "image/png": "[encoded data removed]",
      "text/plain": [
       "<Figure size 640x480 with 1 Axes>"
      ]
     },
     "metadata": {},
     "output_type": "display_data"
    }
   ],
   "source": [
    "# !pip install scikit-fmm\n",
    "\n",
    "import numpy as np\n",
    "import skfmm\n",
    "import matplotlib.pyplot as plt\n",
    "\n",
    "def calcTimes(slow,src1,src2, ds):\n",
    "    \"\"\"\n",
    "    slow - float array of slowness\n",
    "    src1,src2 - Location of the source\n",
    "    ds - sampling\n",
    "    \"\"\"\n",
    "    \n",
    "    phi=np.ones(ns)    # Create an array of 1s\n",
    "    phi[src1,src2]=-1  # Set the source locationt\n",
    "    return skfmm.travel_time(phi, slow, ds)  # calculate traveltimes\n",
    "\n",
    "\n",
    "ns=[1000,1000]         # size of grid\n",
    "div=int(ns[0]/2)       # middle of grid\n",
    "slow=np.ndarray((ns))  # slowness\n",
    "slow[:,:div]=1./2000   # top slowness\n",
    "slow[:,div:]=1./4000   # bottom slowness\n",
    "d=[5.,5.]              # grid spacing\n",
    "\n",
    "\n",
    "tt=calcTimes(slow,div,0,d)  #calculate traveltimes\n",
    "\n",
    "plt.imshow(tt)"
   ]
  },
  {
   "cell_type": "markdown",
   "id": "b16f0bdd",
   "metadata": {},
   "source": [
    "What I would like to do is cacluate many travel time maps (don't execute the following cell because it will take a while but illustrates the point) and store it in an array."
   ]
  },
  {
   "cell_type": "code",
   "execution_count": 148,
   "id": "727c68da",
   "metadata": {},
   "outputs": [],
   "source": [
    "def calcTimes(slow, isrc, ds, times):\n",
    "    \"\"\"\n",
    "    slow - float array of slowness\n",
    "    isr - Location of the source on the surface\n",
    "    ds - sampling\n",
    "    tt - Travel time\n",
    "    \"\"\"\n",
    "    \n",
    "    phi=np.ones(ns)      # Create an array of 1s\n",
    "    phi[isrc, 0] = -1    # Set the source locationt\n",
    "    times[isrc,:,:] = skfmm.travel_time(phi,slow,ds)  # Calculate traveltimes\n"
   ]
  },
  {
   "cell_type": "markdown",
   "id": "01699028",
   "metadata": {},
   "source": [
    "Begin by using what you know about the pool function to create a parallel version of the above. Do not use above 4 threads because your are likely to run out of memory (and less if you run on your laptop) why?\n",
    "\n",
    "**Response**: When using the Pool with multiple threads, the large array storing time table will be copied multiple times in the danger of running out of memory."
   ]
  },
  {
   "cell_type": "code",
   "execution_count": 159,
   "id": "8a162bf4",
   "metadata": {},
   "outputs": [],
   "source": [
    "def calcTimes_ishot(slow, isrc, ds, times):\n",
    "    \"\"\"\n",
    "    slow - float array of slowness\n",
    "    isr - Location of the source on the surface\n",
    "    ds - sampling\n",
    "    tt - Travel time\n",
    "    \"\"\"\n",
    "    \n",
    "    phi=np.ones(ns)      # Create an array of 1s\n",
    "    phi[isrc, 0] = -1    # Set the source locationt\n",
    "    return skfmm.travel_time(phi,slow,ds)  # Calculate traveltimes\n",
    "\n",
    "\n",
    "nthreads = 4\n",
    "nsrc = 10\n",
    "\n",
    "with multiprocess.Pool(nthreads) as pool:\n",
    "    tts = [pool.apply(calcTimes_ishot, args=(slow, isrc, d, tt, )) for isrc in range(nsrc)]\n",
    "\n",
    "tt = np.zeros((nsrc, slow.shape[0], slow.shape[0]))\n",
    "for isrc, t in enumerate(tts):\n",
    "    tt[isrc] = t"
   ]
  },
  {
   "cell_type": "markdown",
   "id": "43aff324",
   "metadata": {},
   "source": [
    "There are three challenges parallelizing the above.  The largest is the times array in which every thread is attempting to fill in different parts. What actually happened when you parallelized in the manner?\n",
    "\n",
    "**Response**: After checking the memory profile during the runtime of the code above, I noticed that the big array storing the time table was copied 4 times when I used 4 threads."
   ]
  },
  {
   "cell_type": "markdown",
   "id": "faaf58a3",
   "metadata": {},
   "source": [
    "The code you generated issue is that each spawned thread would make a pickled version of the slowness array. A third, more minor issue, is that the phi array is being reallocted 100 times in the above loop. Ideally it should be allocated once per thread, not once per job."
   ]
  },
  {
   "cell_type": "markdown",
   "id": "ba794b0d",
   "metadata": {},
   "source": [
    "In Python, the multiprocessing module provides support for parallel execution of code using multiple processes. The RawArray class from this module can be used to create a shared memory array that can be accessed by multiple processes. This allows for efficient communication and data sharing between processes, as the data is stored in a shared memory segment that can be accessed directly by all processes, rather than being copied between them. This can be useful when working with large amounts of data or when performing computationally expensive operations that can be parallelized.\n",
    "\n",
    "The following code shows how to create a raw array and wrap it into a numpy array."
   ]
  },
  {
   "cell_type": "code",
   "execution_count": null,
   "id": "9473ec86",
   "metadata": {},
   "outputs": [],
   "source": [
    "rawArray=multiprocess.RawArray(\"d\",1000*1000)\n",
    "numpyArray=np.frombuffer(rawArray).reshape(1000,1000)"
   ]
  },
  {
   "cell_type": "markdown",
   "id": "825e1100",
   "metadata": {},
   "source": [
    "If a rawArray is accessed by a thread the pickle function will not be called. You should be able to take advantageous of this fact to signficantly speed up.\n",
    "\n",
    "You can also improve your code with the way you handle the phi variable.  Change your code to allocate phi as a 3-d array (nthreads,1000,1000) and use the multiprocess.current_process() function to index correctly into the array."
   ]
  },
  {
   "cell_type": "code",
   "execution_count": 168,
   "id": "9a1b4546",
   "metadata": {},
   "outputs": [
    {
     "ename": "IndexError",
     "evalue": "only integers, slices (`:`), ellipsis (`...`), numpy.newaxis (`None`) and integer or boolean arrays are valid indices",
     "output_type": "error",
     "traceback": [
      "\u001b[0;31m---------------------------------------------------------------------------\u001b[0m",
      "\u001b[0;31mRemoteTraceback\u001b[0m                           Traceback (most recent call last)",
      "\u001b[0;31mRemoteTraceback\u001b[0m: \n\"\"\"\nTraceback (most recent call last):\n  File \"/Users/haipeng/opt/miniconda3/lib/python3.9/site-packages/multiprocess/pool.py\", line 125, in worker\n    result = (True, func(*args, **kwds))\n  File \"/var/folders/pm/r13f8d0d1sj22_6qw9cpgz5h0000gn/T/ipykernel_25067/1227170746.py\", line 10, in calcTimes_new\n    phi[thrd, isrc, 0] = -1  # Set the source locationt\nIndexError: only integers, slices (`:`), ellipsis (`...`), numpy.newaxis (`None`) and integer or boolean arrays are valid indices\n\"\"\"",
      "\nThe above exception was the direct cause of the following exception:\n",
      "\u001b[0;31mIndexError\u001b[0m                                Traceback (most recent call last)",
      "Cell \u001b[0;32mIn[168], line 25\u001b[0m\n\u001b[1;32m     23\u001b[0m     \u001b[38;5;28;01mfor\u001b[39;00m isrc \u001b[38;5;129;01min\u001b[39;00m \u001b[38;5;28mrange\u001b[39m(nsrc):\n\u001b[1;32m     24\u001b[0m         phi \u001b[38;5;241m=\u001b[39m np\u001b[38;5;241m.\u001b[39mones((nthreads,\u001b[38;5;241m1000\u001b[39m,\u001b[38;5;241m1000\u001b[39m))      \u001b[38;5;66;03m# Create an 3D array of 1s\u001b[39;00m\n\u001b[0;32m---> 25\u001b[0m         tts\u001b[38;5;241m.\u001b[39mappend(\u001b[43mpool\u001b[49m\u001b[38;5;241;43m.\u001b[39;49m\u001b[43mapply\u001b[49m\u001b[43m(\u001b[49m\u001b[43mcalcTimes_new\u001b[49m\u001b[43m,\u001b[49m\u001b[43m \u001b[49m\u001b[43m(\u001b[49m\u001b[43mphi\u001b[49m\u001b[43m,\u001b[49m\u001b[43m \u001b[49m\u001b[43mslow\u001b[49m\u001b[43m,\u001b[49m\u001b[43m \u001b[49m\u001b[43misrc\u001b[49m\u001b[43m,\u001b[49m\u001b[43m \u001b[49m\u001b[43md\u001b[49m\u001b[43m,\u001b[49m\u001b[43m \u001b[49m\u001b[43mtt\u001b[49m\u001b[43m,\u001b[49m\u001b[43m \u001b[49m\u001b[43m)\u001b[49m\u001b[43m)\u001b[49m)\n\u001b[1;32m     28\u001b[0m tt \u001b[38;5;241m=\u001b[39m np\u001b[38;5;241m.\u001b[39mzeros((nsrc, slow\u001b[38;5;241m.\u001b[39mshape[\u001b[38;5;241m0\u001b[39m], slow\u001b[38;5;241m.\u001b[39mshape[\u001b[38;5;241m0\u001b[39m]))\n\u001b[1;32m     29\u001b[0m \u001b[38;5;28;01mfor\u001b[39;00m isrc, t \u001b[38;5;129;01min\u001b[39;00m \u001b[38;5;28menumerate\u001b[39m(tts):\n",
      "File \u001b[0;32m~/opt/miniconda3/lib/python3.9/site-packages/multiprocess/pool.py:357\u001b[0m, in \u001b[0;36mPool.apply\u001b[0;34m(self, func, args, kwds)\u001b[0m\n\u001b[1;32m    352\u001b[0m \u001b[38;5;28;01mdef\u001b[39;00m \u001b[38;5;21mapply\u001b[39m(\u001b[38;5;28mself\u001b[39m, func, args\u001b[38;5;241m=\u001b[39m(), kwds\u001b[38;5;241m=\u001b[39m{}):\n\u001b[1;32m    353\u001b[0m     \u001b[38;5;124;03m'''\u001b[39;00m\n\u001b[1;32m    354\u001b[0m \u001b[38;5;124;03m    Equivalent of `func(*args, **kwds)`.\u001b[39;00m\n\u001b[1;32m    355\u001b[0m \u001b[38;5;124;03m    Pool must be running.\u001b[39;00m\n\u001b[1;32m    356\u001b[0m \u001b[38;5;124;03m    '''\u001b[39;00m\n\u001b[0;32m--> 357\u001b[0m     \u001b[38;5;28;01mreturn\u001b[39;00m \u001b[38;5;28;43mself\u001b[39;49m\u001b[38;5;241;43m.\u001b[39;49m\u001b[43mapply_async\u001b[49m\u001b[43m(\u001b[49m\u001b[43mfunc\u001b[49m\u001b[43m,\u001b[49m\u001b[43m \u001b[49m\u001b[43margs\u001b[49m\u001b[43m,\u001b[49m\u001b[43m \u001b[49m\u001b[43mkwds\u001b[49m\u001b[43m)\u001b[49m\u001b[38;5;241;43m.\u001b[39;49m\u001b[43mget\u001b[49m\u001b[43m(\u001b[49m\u001b[43m)\u001b[49m\n",
      "File \u001b[0;32m~/opt/miniconda3/lib/python3.9/site-packages/multiprocess/pool.py:771\u001b[0m, in \u001b[0;36mApplyResult.get\u001b[0;34m(self, timeout)\u001b[0m\n\u001b[1;32m    769\u001b[0m     \u001b[38;5;28;01mreturn\u001b[39;00m \u001b[38;5;28mself\u001b[39m\u001b[38;5;241m.\u001b[39m_value\n\u001b[1;32m    770\u001b[0m \u001b[38;5;28;01melse\u001b[39;00m:\n\u001b[0;32m--> 771\u001b[0m     \u001b[38;5;28;01mraise\u001b[39;00m \u001b[38;5;28mself\u001b[39m\u001b[38;5;241m.\u001b[39m_value\n",
      "\u001b[0;31mIndexError\u001b[0m: only integers, slices (`:`), ellipsis (`...`), numpy.newaxis (`None`) and integer or boolean arrays are valid indices"
     ]
    }
   ],
   "source": [
    "def calcTimes_new(phi, slow, isrc, ds, times):\n",
    "    \"\"\"\n",
    "    slow - float array of slowness\n",
    "    isr - Location of the source on the surface\n",
    "    ds - sampling\n",
    "    tt - Travel time\n",
    "    \"\"\"\n",
    "    # get current index of process\n",
    "    thrd = multiprocess.current_process()\n",
    "    phi[thrd, isrc, 0] = -1  # Set the source locationt\n",
    "\n",
    "    # calcualte time table\n",
    "    return skfmm.travel_time(phi[thrd],slow,ds)  # calculate traveltimes\n",
    "\n",
    "\n",
    "nsrc = 100\n",
    "nthreads = 4\n",
    "\n",
    "# rawArray = multiprocess.RawArray(\"d\",1000*1000*nsrc)\n",
    "# tt = np.frombuffer(rawArray).reshape(nsrc, 1000, 1000)\n",
    "tts = []\n",
    "with multiprocess.Pool(nthreads) as pool:\n",
    "    for isrc in range(nsrc):\n",
    "        phi = np.ones((nthreads,1000,1000))      # Create an 3D array of 1s\n",
    "        tts.append(pool.apply(calcTimes_new, (phi, slow, isrc, d, tt, )))\n",
    "\n",
    "        \n",
    "tt = np.zeros((nsrc, slow.shape[0], slow.shape[0]))\n",
    "for isrc, t in enumerate(tts):\n",
    "    tt[isrc] = t\n",
    "    \n",
    "### Not correct"
   ]
  },
  {
   "cell_type": "code",
   "execution_count": 128,
   "id": "2876d052-8498-4392-a399-4c5a2ab05e0e",
   "metadata": {},
   "outputs": [
    {
     "data": {
      "text/plain": [
       "<matplotlib.image.AxesImage at 0x7fd75afbef70>"
      ]
     },
     "execution_count": 128,
     "metadata": {},
     "output_type": "execute_result"
    },
    {
     "data": {
      "image/png": "[encoded data removed]",
      "text/plain": [
       "<Figure size 640x480 with 1 Axes>"
      ]
     },
     "metadata": {},
     "output_type": "display_data"
    }
   ],
   "source": [
    "plt.imshow()"
   ]
  },
  {
   "cell_type": "code",
   "execution_count": 131,
   "id": "de52c387-d96d-4d14-8c8a-1612842bc32a",
   "metadata": {},
   "outputs": [
    {
     "data": {
      "text/plain": [
       "0.0"
      ]
     },
     "execution_count": 131,
     "metadata": {},
     "output_type": "execute_result"
    }
   ],
   "source": [
    "tt[1].min()"
   ]
  },
  {
   "cell_type": "code",
   "execution_count": null,
   "id": "257d5e81-6ca2-433f-b4be-1bb198f302e4",
   "metadata": {},
   "outputs": [],
   "source": []
  }
 ],
 "metadata": {
  "kernelspec": {
   "display_name": "Python 3 (ipykernel)",
   "language": "python",
   "name": "python3"
  },
  "language_info": {
   "codemirror_mode": {
    "name": "ipython",
    "version": 3
   },
   "file_extension": ".py",
   "mimetype": "text/x-python",
   "name": "python",
   "nbconvert_exporter": "python",
   "pygments_lexer": "ipython3",
   "version": "3.9.13"
  }
 },
 "nbformat": 4,
 "nbformat_minor": 5
}
