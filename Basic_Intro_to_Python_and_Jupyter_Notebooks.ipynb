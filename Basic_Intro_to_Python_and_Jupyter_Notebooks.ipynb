{
 "cells": [
  {
   "cell_type": "markdown",
   "metadata": {},
   "source": [
    "# Intro to Python and Jupyter-Notebooks\n",
    "<img src=\"http://www.python.org/static/community_logos/python-logo-generic.svg\" align=\"left\" width=\"300\" >"
   ]
  },
  {
   "cell_type": "markdown",
   "metadata": {},
   "source": [
    "<p style=\"width:35%;float:right;padding-left:50px\">\n",
    "<img src=\"http://certik.github.io/talk-scipy-india2013/talk/images/python_ecosystem.png\">\n",
    "<img src=\"http://luispedro.org/files/talks/2013/EuBIAS/figures/sciwheel.png\">\n",
    "</p>\n",
    "\n",
    "## Why Python?\n",
    "\n",
    "* Widely used in all areas, picking up lots of momentum in many sciences\n",
    "* Simple, concise, and easy-to-read syntax\n",
    "* Free and Open Source, large scientific community\n",
    "* Potentially high impact and large user base\n",
    "* General purpose programming language\n",
    "* Cross-platform: from RaspberryPi to large supercomputers\n",
    "* No need to compile, interactive shell available\n",
    "* Easy to interact with existing C and Fortran code\n",
    "* Vast scientific ecosystem; taking advantage of developments in other sciences"
   ]
  },
  {
   "cell_type": "markdown",
   "metadata": {},
   "source": [
    "## External Resources\n",
    "If you have any question regarding some specific Python functionality you can consult the official [Python documenation](http://docs.python.org/3/).\n",
    "\n",
    "Furthermore a large number of Python tutorials, introduction, and books are available online. Here are some examples for those interested in learning more.\n",
    "\n",
    "* [Python Numerical Methods](https://pythonnumericalmethods.berkeley.edu/notebooks/Index.html) **This lab's exercises are mostly straight from this \"digital-textbook,\" although some modifications have been made.**\n",
    "* [Learn Python The Hard Way](http://learnpythonthehardway.org/book/)\n",
    "* [Dive Into Python](http://www.diveintopython.net/)\n",
    "* [The Official Python Tutorial](http://docs.python.org/3/tutorial/index.html)\n",
    "* [Think Python Book](http://www.greenteapress.com/thinkpython/thinkpython.html)\n",
    "\n",
    "Some people might be used to Matlab - this helps:\n",
    "\n",
    "* [NumPy for Matlab Users Introdution](https://numpy.org/doc/stable/user/numpy-for-matlab-users.html)\n",
    "* [NumPy for Matlab Users Cheatsheet](http://mathesaurus.sourceforge.net/matlab-numpy.html)\n",
    "\n",
    "\n",
    "Additionally there is an abundance of resources introducing and teaching parts of the scientific Python ecosystem.\n",
    "\n",
    "* [Awesome Python](https://github.com/vinta/awesome-python) Need we say more?\n",
    "* [NumPy Tutorials](https://numpy.org/doc/stable/user/tutorials_index.html)\n",
    "* [Probabilistic Programming and Bayesian Methods for Hackers](http://camdavidsonpilon.github.io/Probabilistic-Programming-and-Bayesian-Methods-for-Hackers/): Great ebook introducing Bayesian methods from an understanding-first point of view with the examples done in Python.\n",
    "* [Python Scientific Lecture Notes](http://scipy-lectures.github.io/): Introduces the basics of scientific Python with lots of examples.\n",
    "* [Notebook introducing SymPy](http://nbviewer.ipython.org/github/ipython/ipython/blob/master/examples/notebooks/SymPy%20Examples.ipynb): Notebook showing off the symbolic mathematics packages SymPy.\n",
    "* [Python for Signal Processing](http://python-for-signal-processing.blogspot.de/): Free blog which is the basis of a proper book written on the subject.\n",
    "* [Another NumPy Tutorial](http://www.loria.fr/~rougier/teaching/numpy/numpy.html)\n",
    "* [Matplotlib Tutorial](http://www.loria.fr/~rougier/teaching/matplotlib/matplotlib.html)\n"
   ]
  },
  {
   "cell_type": "markdown",
   "metadata": {},
   "source": [
    "## Exercise 1: Python Basics\n",
    "\n",
    "For this Exercise, you need to commplete all the following problems. Please comment your code when neccessary. Most of these problems were taken straight from  [Python Numerical Methods](https://pythonnumericalmethods.berkeley.edu/notebooks/chapter01.06-Summary-and-Problems.html#problems), but there have been modifications. Please read Chapter 1.\n",
    "\n",
    "#### For problems 1-3, please use a stand-alone cell for each problem.\n",
    "1. Print \"I love Python\" (including the quotes).<br><br>\n",
    "\n",
    "1. *import antigravity*<br><br>\n",
    "\n",
    "1. *import thiss*\n",
    "\n",
    "#### For problems 4-7, please lump them into just one cell, but use comments to indecate each problem\n",
    "4. Compute the surface area and volume of a cylinder with radius 5 and height 3 (Use numpy's variable for Pi).<br><br>\n",
    "\n",
    "1. Compute the slope between the points $(3,4)$ and $(5,9)$. Recall that the slope between points $(x_1,y_1)$ and $(x_2, y_2)$ is $\\frac{y_2 - y_1}{x_2 - x_1}$. Be sure you have the correct order of operations.<br><br>\n",
    "\n",
    "1. Compute the distance between the points $(3,4)$ and $(5,9)$. Recall that the distance between points in two dimensions is $\\sqrt{(x_2 - x_1)^2 + (y_2 - y_1)^2}$. Be sure you have the correct order of operations, and do NOT use a function when computing the square-root. (Hint: when taking the square-root, think about how you can write the square-root as a power).<br><br>\n",
    "\n",
    "1. Use Python's *factorial* function (or Numpy's if you know it) to compute $6!$\n",
    "\n",
    "#### For problem 8, please use a stand-alone cell\n",
    "8. A very powerful approximation for $\\pi$ was developed by a brilliant mathematician named Srinivasa Ramanujan. The approximation is the following:<br>\n",
    "$\\frac{1}{\\pi} \\approx \\frac{2\\sqrt{2}}{9801} \\sum_{k=0}^{N} \\frac{(4k)!(1103 + 26390k)}{(k!)^4 396^{4k}}$.<br>\n",
    "Use Ramanujan's formula for $N = 0$ and $N = 1$ to approximate $\\pi$. Be sure to use format long. Compare your approximation with Numpy's stored value for *pi*. Hint: $0! = 1$ by definition.\n",
    "\n",
    "#### For problems 9-11, please lump them into just one cell, but use comments to indecate each problem\n",
    "9. The hyperbolic $sin$ or $sinh$ is defined in terms of exponentials as $sinh(x) = \\frac{\\exp(x) - \\exp(-x)}{2}$.<br>\n",
    "Compute $sinh$ for $x = 2$ using exponentials. Verify that the result is indeed the hyperbolic $sin$ using Python's function *sinh* in the math module. <br><br>\n",
    "\n",
    "1. Verify that $\\sin^2(x) + \\cos^2(x) = 1$ for $x = \\pi, \\frac{\\pi}{2}, \\frac{\\pi}{4}, \\frac{\\pi}{6}$.<br><br>\n",
    "\n",
    "1. Compute the $\\sin87$&deg;<br><br>\n",
    "\n",
    "#### For problems 12_14, please lump them into just one cell, but use comments to indecate each problem\n",
    "12. If $P$ is a logical expression, the law of noncontradiction states that $P\\ AND\\ (NOT\\ P)$ is always false. Verify this for $P$ true and $P$ false.<br><br>\n",
    "\n",
    "1. Let P and Q be logical expressions. De Morgan's rule states that $NOT\\ (P\\ OR\\ Q)\\ =\\ (NOT\\ P)\\ AND\\\n",
    "(NOT\\ Q)$ and $NOT\\ (P\\ AND\\ Q)\\ =\\ (NOT\\ P)\\ OR\\ (NOT\\ Q)$. Generate the truth tables for each statement to show that De Morgan's rule is always true.<br><br>\n",
    "\n",
    "1. The logical operator XOR has the following truth table:<br>\n",
    "Construct an equivalent logical expression for XOR using only AND, OR, and NOT that has the same truth table (see the following figure)  ![XOR](https://pythonnumericalmethods.berkeley.edu/_images/01.06.01-truth_table.png)<br><br>\n",
    "\n",
    "#### For problem 15, please use a stand-alone cell \n",
    "1. Do the following calculation.<br>\n",
    "$e^{2}\\sin{\\pi/6} + log_e(3)\\cos{\\pi/9}-5^3$"
   ]
  },
  {
   "cell_type": "markdown",
   "metadata": {},
   "source": [
    "## My solutions to Exercise 1"
   ]
  },
  {
   "cell_type": "code",
   "execution_count": 199,
   "metadata": {},
   "outputs": [
    {
     "name": "stdout",
     "output_type": "stream",
     "text": [
      "I love Python\n"
     ]
    }
   ],
   "source": [
    "print(\"I love Python\")"
   ]
  },
  {
   "cell_type": "markdown",
   "metadata": {},
   "source": [
    "## My solutions to Exercise 2"
   ]
  },
  {
   "cell_type": "code",
   "execution_count": 200,
   "metadata": {},
   "outputs": [],
   "source": [
    "import antigravity"
   ]
  },
  {
   "cell_type": "markdown",
   "metadata": {},
   "source": [
    "## My solutions to Exercise 3"
   ]
  },
  {
   "cell_type": "code",
   "execution_count": 12,
   "metadata": {},
   "outputs": [],
   "source": [
    "import this"
   ]
  },
  {
   "cell_type": "markdown",
   "metadata": {},
   "source": [
    "## My solutions to Exercises 4-7"
   ]
  },
  {
   "cell_type": "code",
   "execution_count": 201,
   "metadata": {},
   "outputs": [],
   "source": [
    "## Problem 4\n",
    "import numpy as np\n",
    "radius = 5   # in meter\n",
    "height = 3   # in meter\n",
    "surface = 2 * np.pi * radius * height + 2 * np.pi * radius**2\n",
    "volume = np.pi * radius**2 * height\n",
    "\n",
    "## Problem 5\n",
    "x1, y1 = 3, 4\n",
    "x2, y2 = 5, 9\n",
    "slope = (y2-y1) / (x2-x1)\n",
    "\n",
    "## Problem 6\n",
    "dist = ((x2-x1)**2 + (y2-y1)**2) ** 0.5\n",
    "\n",
    "## Problem 7\n",
    "fact = np.math.factorial(6)"
   ]
  },
  {
   "cell_type": "code",
   "execution_count": 76,
   "metadata": {},
   "outputs": [
    {
     "name": "stdout",
     "output_type": "stream",
     "text": [
      "Ramanujan's formula for N=0, compare with Numpy's stored value: 2.4326e-08\n",
      "Ramanujan's formula for N=1, compare with Numpy's stored value: 1.4136e-16\n"
     ]
    }
   ],
   "source": [
    "## Problem 8\n",
    "for N in [0, 1]:\n",
    "    pi = 0.0\n",
    "    for k in range(0, N+1):\n",
    "        nume = np.math.factorial(4 * k) * (1103 + 26390 * k)\n",
    "        deno = np.math.factorial(k) ** 4 * 396 ** (4 * k)\n",
    "        pi += nume / deno\n",
    "    pi *= 2 * np.sqrt(2) / 9801\n",
    "    pi = 1 / pi\n",
    "    print(f\"Ramanujan's formula for N={N}, compare with Numpy's stored value: {(pi - np.pi)/np.pi:.4e}\")"
   ]
  },
  {
   "cell_type": "code",
   "execution_count": 92,
   "metadata": {},
   "outputs": [
    {
     "name": "stdout",
     "output_type": "stream",
     "text": [
      "(my_sinh - np_sinh)/np_sinh: 1.2244e-16\n",
      "sin(x)^2 + cos(x)^2 = 1 for 3.1416 is True\n",
      "sin(x)^2 + cos(x)^2 = 1 for 1.5708 is True\n",
      "sin(x)^2 + cos(x)^2 = 1 for 0.7854 is True\n",
      "sin(x)^2 + cos(x)^2 = 1 for 0.5236 is True\n",
      "sin(87) is: 0.9986\n"
     ]
    }
   ],
   "source": [
    "## Problem 9\n",
    "x = 2\n",
    "my_sinh = 0.5 * (np.exp(x) - np.exp(-x))\n",
    "np_sinh = np.sinh(x)\n",
    "print(f\"(my_sinh - np_sinh)/np_sinh: {(my_sinh - np_sinh) / np_sinh:.4e}\")\n",
    "\n",
    "## Problem 10\n",
    "rhs = 1.0\n",
    "x = np.array([1, 1/2, 1/4, 1/6]) * np.pi\n",
    "for i in x:\n",
    "    lhs = np.sin(i)**2 + np.cos(i)**2\n",
    "    print(f\"sin(x)^2 + cos(x)^2 = 1 for {i:<6.4f} is {lhs == rhs}\")\n",
    "    \n",
    "## Problem 11\n",
    "angle = 87 * np.pi / 180\n",
    "print(f\"sin(87) is: {np.sin(angle):.4f}\")"
   ]
  },
  {
   "cell_type": "code",
   "execution_count": 110,
   "metadata": {},
   "outputs": [
    {
     "name": "stdout",
     "output_type": "stream",
     "text": [
      "False\n",
      "False\n",
      "[True, True, True, True]\n",
      "[True, True, True, True]\n",
      "[False, True, True, False]\n"
     ]
    }
   ],
   "source": [
    "## Problem 12\n",
    "logic = [True, False]\n",
    "for P in logic:\n",
    "    print(P and not P)\n",
    "    \n",
    "## Problem 13\n",
    "truth_table1 = []\n",
    "truth_table2 = []\n",
    "for P in logic:\n",
    "    for Q in logic:\n",
    "        truth_table1.append((not (P  or Q)) == (not P and not Q))\n",
    "        truth_table2.append((not (P and Q)) == (not P  or not Q))\n",
    "print(truth_table1)\n",
    "print(truth_table2)\n",
    "\n",
    "## Problem 14\n",
    "truth_table = []\n",
    "for P in logic:\n",
    "    for Q in logic:\n",
    "        truth_table.append(P ^ Q)\n",
    "print(truth_table)\n"
   ]
  },
  {
   "cell_type": "code",
   "execution_count": 115,
   "metadata": {},
   "outputs": [
    {
     "name": "stdout",
     "output_type": "stream",
     "text": [
      "Calculation result: -120.27311408976854\n"
     ]
    }
   ],
   "source": [
    "## Problem 15 \n",
    "res = np.exp(1)**2 * np.sin(np.pi/6) + np.log(3) * np.cos(np.pi/9) - 5**3\n",
    "print(f\"Calculation result: {res}\")"
   ]
  },
  {
   "cell_type": "markdown",
   "metadata": {},
   "source": [
    "## My solutions to Exercise 8"
   ]
  },
  {
   "cell_type": "markdown",
   "metadata": {},
   "source": [
    "## Exercise 2: Variables and Basic Data Structures\n",
    "\n",
    "For this Exercise, you need to commplete all the following problems. Please comment your code when neccessary. Most of these problems were taken straight from  [Python Numerical Methods](https://pythonnumericalmethods.berkeley.edu/notebooks/chapter02.08-Summary-and-Problems.html#problems), but there have been modifications. Please read Chapter 2.\n",
    "\n",
    "#### For problems 1 and 2, please use a stand-alone cell for each problem\n",
    "1. Let x = 10 and y = 3. Write in a stand-alone cell the following lines of code for each of the following assignments.\n",
    "\n",
    "```python\n",
    "u = x + y\n",
    "v = x*y\n",
    "w = x/y\n",
    "z = sin(x)\n",
    "r = 8*sin(x) \n",
    "s = 5*sin(xy)\n",
    "p = x**y\n",
    "```\n",
    "2. In a stand-alone cell, show all the variables in the Jupyter notebook after you finish problem 1.<br><br>\n",
    "\n",
    "#### For problems 3-10, please lump them into just one cell, but use comments to indecate each problem\n",
    "3. Assign string '123' to the variable S. Convert the string into a float type and assign the output to the variable N. Verify that S is a string and N is a float using the *type* function. <br><br>\n",
    "\n",
    "1. Assign the string 'HELLO' to the variable s1 and the string 'hello' to the variable s2. Use the *==* operator to show that they are not equal. Use the *==* operator to show that s1 and s2 are equal if the *lower* method is used on s1. Use the **==** operator to show that s1 and s2 are equal if *upper* method is used on s2.<br><br>\n",
    "\n",
    "1. Show all the variables in the Jupyter notebook after you finish problem 3.<br><br>\n",
    "\n",
    "1. Assign string '123' to the variable S. Convert the string into a float type and assign the output to the variable N. Verify that S is a string and N is a float using the *type* function. <br><br>\n",
    "\n",
    "1. Assign the string 'HELLO' to the variable s1 and the string 'hello' to the variable s2. Use the *==* operator to show that they are not equal. Use the *==* operator to show that s1 and s2 are equal if the *lower* method is used on s1. Use the **==** operator to show that s1 and s2 are equal if *upper* method is used on s2. <br><br>\n",
    "\n",
    "1. Use the *print* function to generate the following string: \"The word 'flabbergasted' has \\<number of\\> letters.\" <br><br>\n",
    "\n",
    "1. Check if 'Python' is in 'Python is great!' and print the result. <br><br>\n",
    "\n",
    "1. Get and print the last word 'great' from 'Python is great!'<br><br>\n",
    "\n",
    "#### For problems 11-16, please lump them into just one cell, but use comments to indecate each problem\n",
    "11. Assign list [1, 8, 9, 15] to a variable *list_a* and insert 2 at index 1 using the *insert* method. Append 4 to the *list_a* using the *append* method. <br><br>\n",
    "\n",
    "1. Sort the *list_a* in problem 10 in ascending order and print the result. <br><br>\n",
    "\n",
    "1. Turn 'Python is great!' to a list. <br><br>\n",
    "\n",
    "1. Create a tuple with with the following two elements, 'One' and 1, and assign it to tuple_a<br><br>\n",
    "\n",
    "1. Get and print the 2nd element in the tuple_a in problem 13. <br><br>\n",
    "\n",
    "1. Get and print the unique element from (2, 3, 2, 3, 1, 2, 5). <br><br>\n",
    "\n",
    "#### For problems 17-19, please lump them into just one cell, but use comments to indecate each problem\n",
    "17. Assign (2, 3, 2) to set_a, and (1, 2, 3) to set_b. Get the following:\n",
    "    * union of set_a and set_b\n",
    "    * intersection of set_a and set_b\n",
    "    * difference of set_a to set_b using *difference* method<br><br>\n",
    "\n",
    "1. Create a dictionary that has the keys 'A', 'B', 'C' with values 'a', 'b', 'c' individually. Print all the keys in the dictionary. <br><br>\n",
    "\n",
    "1. Check if key 'B' is in the dictionary defined in problem 17. <br><br>\n",
    "\n",
    "#### For problems 20-24, please lump them into just one cell, but use comments to indecate each problem\n",
    "20. Generate an array with size 100 evenly spaced between -10 to 10 using *linspace* function in Numpy.<br><br>\n",
    "\n",
    "1. Let array_a be an array [-1, 0, 1, 2, 0, 3]. Write a command that will return an array consisting of all the elements of array_a that are larger than zero. Hint: Use logical expression as the index of the array.<br><br>\n",
    "\n",
    "1. Create an array $y = \\begin{pmatrix} \n",
    "3 & 5 & 3 \\\\\n",
    "2 & 2 & 5 \\\\\n",
    "3 & 8 & 9 \\\\\n",
    "\\end{pmatrix}$ and calculate the transpose of the array. <br><br>\n",
    "\n",
    "1. Create a zero array with size (2, 4). <br><br>\n",
    "\n",
    "1. Change the 2nd column in the above array to 1.  <br><br>\n",
    "\n",
    "#### For problem 25, please use a stand-alone cell \n",
    "25. Write a cell magic to clear all the variables in the Jupyter notebook"
   ]
  },
  {
   "cell_type": "markdown",
   "metadata": {},
   "source": [
    "## My solutions to Exercise 2"
   ]
  },
  {
   "cell_type": "code",
   "execution_count": 121,
   "metadata": {},
   "outputs": [],
   "source": [
    "## Problem 1\n",
    "import numpy as np\n",
    "\n",
    "x, y = 10, 3"
   ]
  },
  {
   "cell_type": "code",
   "execution_count": 122,
   "metadata": {},
   "outputs": [],
   "source": [
    "u = x + y"
   ]
  },
  {
   "cell_type": "code",
   "execution_count": 123,
   "metadata": {},
   "outputs": [],
   "source": [
    "v = x * y"
   ]
  },
  {
   "cell_type": "code",
   "execution_count": 124,
   "metadata": {},
   "outputs": [],
   "source": [
    "w = x / y"
   ]
  },
  {
   "cell_type": "code",
   "execution_count": 125,
   "metadata": {},
   "outputs": [],
   "source": [
    "z = np.sin(x)"
   ]
  },
  {
   "cell_type": "code",
   "execution_count": 126,
   "metadata": {},
   "outputs": [],
   "source": [
    "r = 8 * np.sin(x)"
   ]
  },
  {
   "cell_type": "code",
   "execution_count": 127,
   "metadata": {},
   "outputs": [],
   "source": [
    "s = 5 * np.sin(x * y)"
   ]
  },
  {
   "cell_type": "code",
   "execution_count": 128,
   "metadata": {},
   "outputs": [],
   "source": [
    "p = x ** y"
   ]
  },
  {
   "cell_type": "code",
   "execution_count": 131,
   "metadata": {},
   "outputs": [
    {
     "name": "stdout",
     "output_type": "stream",
     "text": [
      "Variable       Type       Data/Info\n",
      "-----------------------------------\n",
      "N              int        1\n",
      "P              bool       False\n",
      "Q              bool       False\n",
      "a              bool       True\n",
      "angle          float      1.5184364492350666\n",
      "area           float      86.3937979737193\n",
      "b              bool       True\n",
      "deno           int        24591257856\n",
      "dist           float      5.385164807134504\n",
      "fact           int        720\n",
      "height         int        3\n",
      "i              float64    0.5235987755982988\n",
      "k              int        1\n",
      "lhs            float64    1.0\n",
      "logic          list       n=2\n",
      "my_sinh        float64    3.626860407847019\n",
      "np             module     <module 'numpy' from '/Us<...>kages/numpy/__init__.py'>\n",
      "np_sinh        float64    3.6268604078470186\n",
      "nume           int        659832\n",
      "p              int        1000\n",
      "pi             float64    3.1415926535897936\n",
      "r              float64    -4.352168887114959\n",
      "radius         int        5\n",
      "res            float64    -120.27311408976854\n",
      "rhs            float      1.0\n",
      "s              float64    -4.940158120464309\n",
      "slope          float      2.5\n",
      "truth_table    list       n=4\n",
      "truth_table1   list       n=4\n",
      "truth_table2   list       n=4\n",
      "u              int        13\n",
      "v              int        30\n",
      "volume         float      58.90486225480862\n",
      "w              float      3.3333333333333335\n",
      "x              int        10\n",
      "x1             int        3\n",
      "x2             int        5\n",
      "y              int        3\n",
      "y1             int        4\n",
      "y2             int        9\n",
      "z              float64    -0.5440211108893699\n"
     ]
    }
   ],
   "source": [
    "## Problem 2\n",
    "%whos"
   ]
  },
  {
   "cell_type": "code",
   "execution_count": 143,
   "metadata": {},
   "outputs": [
    {
     "name": "stdout",
     "output_type": "stream",
     "text": [
      "True\n",
      "True\n",
      "False\n",
      "True\n",
      "True\n",
      "True\n",
      "True\n",
      "False\n",
      "True\n",
      "True\n",
      "The word flabbergasted has 13 letters.\n",
      "'Python' is in 'Python is great!'\n",
      "great\n"
     ]
    }
   ],
   "source": [
    "## Problem 3\n",
    "S = '123'\n",
    "N = float(S)\n",
    "print(type(S) is str)\n",
    "print(type(N) is float)\n",
    "\n",
    "## Problem 4\n",
    "s1 = 'HELLO'\n",
    "s2 = 'hello'\n",
    "print(s1 == s2)\n",
    "print(s1.lower() == s2)\n",
    "print(s1 == s2.upper())\n",
    "\n",
    "## Problem 5\n",
    "%whos\n",
    "\n",
    "## Problem 6\n",
    "S = '123'\n",
    "N = float(S)\n",
    "print(type(S) is str)\n",
    "print(type(N) is float)\n",
    "\n",
    "## Problem 7\n",
    "s1 = 'HELLO'\n",
    "s2 = 'hello'\n",
    "print(s1 == s2)\n",
    "print(s1.lower() == s2)\n",
    "print(s1 == s2.upper())\n",
    "\n",
    "## Problem 8\n",
    "w = 'flabbergasted'\n",
    "print(f\"The word {w} has {len(w)} letters.\")\n",
    "\n",
    "## Problem 9\n",
    "if 'Python' in 'Python is great!':\n",
    "    print(\"'Python' is in 'Python is great!'\")\n",
    "\n",
    "## Problem 10\n",
    "print('Python is great!'[-6:-1])\n"
   ]
  },
  {
   "cell_type": "code",
   "execution_count": 155,
   "metadata": {},
   "outputs": [
    {
     "name": "stdout",
     "output_type": "stream",
     "text": [
      "[1, 2, 4, 8, 9, 15]\n",
      "['P', 'y', 't', 'h', 'o', 'n', ' ', 'i', 's', ' ', 'g', 'r', 'e', 'a', 't', '!']\n",
      "1\n",
      "{1, 2, 3, 5}\n"
     ]
    }
   ],
   "source": [
    "## Problem 11\n",
    "list_a = [1, 8, 9, 15]\n",
    "list_a.insert(1, 2)\n",
    "list_a.append(4)\n",
    "\n",
    "## Problem 12\n",
    "list_a.sort()\n",
    "print(list_a)\n",
    "\n",
    "## Problem 13\n",
    "list_s = list('Python is great!')\n",
    "print(list_s)\n",
    "\n",
    "## Problem 14\n",
    "tuple_a = ('One', 1)\n",
    "\n",
    "## Problem 15\n",
    "print(tuple_a[1])\n",
    "\n",
    "## Problem 16\n",
    "print(set([2, 3, 2, 3, 1, 2, 5]))"
   ]
  },
  {
   "cell_type": "code",
   "execution_count": 176,
   "metadata": {},
   "outputs": [
    {
     "name": "stdout",
     "output_type": "stream",
     "text": [
      "{1, 2, 3}\n",
      "{2, 3}\n",
      "set()\n",
      "{1}\n",
      "dict_keys(['A', 'B', 'C'])\n",
      "True\n"
     ]
    }
   ],
   "source": [
    "## Problem 17\n",
    "set_a = {2, 3, 2}\n",
    "set_b = {1, 2, 3}\n",
    "print(set_a | set_b)\n",
    "print(set_a & set_b)\n",
    "print(set_a.difference(set_b))\n",
    "print(set_b.difference(set_a))\n",
    "\n",
    "\n",
    "## Problem 18\n",
    "dict_letter = {}\n",
    "for key in ['A', 'B', 'C']:\n",
    "    dict_letter[key] = key.lower()\n",
    "print(dict_letter.keys())\n",
    "\n",
    "## Problem 19\n",
    "print('B' in dict_letter)"
   ]
  },
  {
   "cell_type": "code",
   "execution_count": 202,
   "metadata": {},
   "outputs": [
    {
     "name": "stdout",
     "output_type": "stream",
     "text": [
      "[1 2 3]\n",
      "[[3 2 3]\n",
      " [5 2 8]\n",
      " [3 5 9]]\n",
      "[[0. 1. 0. 0.]\n",
      " [0. 1. 0. 0.]]\n"
     ]
    }
   ],
   "source": [
    "## Problem 20\n",
    "array_l = np.linspace(-10, 10, 100)\n",
    "\n",
    "## Problem 21\n",
    "array_a = np.array([-1, 0, 1, 2, 0, 3])\n",
    "array_p = array_a[array_a > 0.]\n",
    "print(array_p)\n",
    "\n",
    "## Problem 22\n",
    "array_b = np.array([[3, 5, 3], [2, 2, 5], [3, 8, 9]])\n",
    "print(array_b.T)\n",
    "\n",
    "## Problem 23\n",
    "array_z = np.zeros((2, 4))\n",
    "\n",
    "## Problem 24\n",
    "array_z[:, 1] = 1.\n",
    "print(array_z)"
   ]
  },
  {
   "cell_type": "code",
   "execution_count": 204,
   "metadata": {},
   "outputs": [],
   "source": [
    "## Problem 25\n",
    "%reset -f"
   ]
  },
  {
   "cell_type": "markdown",
   "metadata": {},
   "source": [
    "## Exercise 3: Functions\n",
    "\n",
    "For this Exercise, you need to commplete all the following problems. Please comment your code when neccessary. Most of these problems were taken straight from  [Python Numerical Methods](https://pythonnumericalmethods.berkeley.edu/notebooks/chapter03.06-Summary-and-Problems.html#problems), but there have been modifications. Please read Chapter 3.\n",
    "\n",
    "\n",
    "#### For all of the problems, please use a stand-alone cell for each problem\n",
    "1. Recall that the hyperbolic sine, denoted by $\\sinh$, is $\\frac{\\exp{(x)} - \\exp{(-x)}}{2}$. Write a function $my\\_sinh(x)$, where the output $y$ is the hyperbolic sine computed on $x$. Assume that _x_ is a 1 by 1 float.\n",
    "\n",
    " Test Cases:\n",
    "\n",
    " ```python\n",
    " In: my_sinh(0)\n",
    " Out: 0\n",
    "    \n",
    " In: my_sinh(1)\n",
    " Out: 1.1752\n",
    "    \n",
    " In: my_sinh(2)\n",
    " Out: 3.6269\n",
    " ```\n",
    " \n",
    "1. Write a function $my\\_checker\\_board(n)$, where the output $m$ is an $n\\times n$ array with the following form:\n",
    "\n",
    "    $$\n",
    "    m =\\begin{array}{ccccc}\n",
    "    1 & 0 & 1 & 0 & 1\\\\\n",
    "    0 & 1 & 0 & 1 & 0\\\\\n",
    "    1 & 0 & 1 & 0 & 1\\\\\n",
    "    0 & 1 & 0 & 1 & 0\\\\\n",
    "    1 & 0 & 1 & 0 & 1\n",
    "    \\end{array}\n",
    "    $$\n",
    "\n",
    " Note that the upper-left element should always be 1. Assume that _n_ is a strictly positive integer. \n",
    " \n",
    " Test Cases:\n",
    " \n",
    " ```python\n",
    " In: my_checker_board(1)\n",
    " Out: 1\n",
    "    \n",
    " In: my_checker_board(2)\n",
    " Out: array([[1, 0],\n",
    "             [0, 1]])\n",
    "    \n",
    " In: y = my_sinh(3)\n",
    " Out: array([[1, 0, 1],\n",
    "             [0, 1, 0], \n",
    "             [1, 0, 1]])\n",
    "    \n",
    " In: y = my_sinh(5)\n",
    " Out: array([[1, 0, 1, 0, 1],\n",
    "             [0, 1, 0, 1, 0], \n",
    "             [1, 0, 1, 0, 1], \n",
    "             [0, 1, 0, 1, 0], \n",
    "             [1, 0, 1, 0, 1]])\n",
    " ```\n",
    " \n",
    "1. Write a function $my\\_triangle(b,h)$ where the output is the area of a triangle with base, _b_, and height, _h_. Recall that the area of a triangle is one-half the base times the height. Assume that _b_ and _h_ are just 1 by 1 float numbers.\n",
    "\n",
    " Test Cases:\n",
    " \n",
    " ```python\n",
    " In: my_triangle(1, 1)\n",
    " Out: 0.5\n",
    " \n",
    " In: my_triangle(2, 1)\n",
    " Out: 1\n",
    "    \n",
    " In: my_triangle(12, 5)\n",
    " Out: 30\n",
    " ```\n",
    " \n",
    "1. Write a function $my\\_split\\_matrix(m)$, where $m$ is an array, the output is a list *[m1, m2]* where *m1* is the left half of *m*, and *m2* is the right half of *m*. In the case where there is an odd number of columns, the middle column should go to *m1*. Assume that *m* has at least two columns. **Note: Even if you know how to use \"if\" statements, do NOT use them for this problem.**\n",
    "\n",
    " Test Cases:\n",
    " \n",
    "```python\n",
    " In: m = np.array([[1, 2, 3], [4, 5, 6], [7, 8, 9]])  \n",
    " In: m1, m2 = my_split_matrix(m)  \n",
    " Out: m1 = array([[1, 2],\n",
    "                   [4, 5],\n",
    "                   [7, 8]])  \n",
    " Out: m2 = array([3, 6, 9])\n",
    "   \n",
    "  \n",
    " In: m = np.ones((5, 5))\n",
    " In: m1, m2 = my_split_matrix(m) \n",
    " Out: m1 = array([[1., 1., 1.],\n",
    "       [1., 1., 1.],\n",
    "       [1., 1., 1.],\n",
    "       [1., 1., 1.],\n",
    "       [1., 1., 1.]])\n",
    " Out: m2 =  array([[1., 1.],\n",
    "       [1., 1.],\n",
    "       [1., 1.],\n",
    "       [1., 1.],\n",
    "       [1., 1.]])\n",
    "   \n",
    " ```\n",
    " \n",
    "5. Write a function $my\\_cylinder(r,h)$, where *r* and *h* are the radius and height of a cylinder, respectively, and the output is a list *[s, v]* where *s* and *v* are the surface area and volume of the same cylinder, respectively. Recall that the surface area of a cylinder is $2\\pi r^2 + 2\\pi rh$, and the volume is $\\pi r^2h$. Assume that *r* and *h* are 1 by 1 float.\n",
    "\n",
    " Test Cases:\n",
    " \n",
    " ```python\n",
    " In: my_cylinder(1,5)\n",
    " Out: [37.6991, 15.7080]\n",
    " \n",
    " In: my_cylinder(2,4)\n",
    " Out: [62.8319, 37.6991]\n",
    " ```\n",
    " \n",
    "1. Write a function $my\\_n\\_odds(a)$, where *a* is a one-dimensional array of floats and the output is the number of odd numbers in *a*.\n",
    "\n",
    " Test Cases:\n",
    "\n",
    " ```python\n",
    " In: my_n_odds(np.arange(100))\n",
    " Out: 50\n",
    " \n",
    " In: my_n_odds(np.arange(2, 100, 2))\n",
    " Out: 0\n",
    " ```\n",
    " \n",
    "1. Write a lambda function that takes in *x* and *y*, and output the value of *x - y*. \n",
    " Test Cases:\n",
    " ```python\n",
    " In: x = 8.5\n",
    " In: y = 13\n",
    " In: your_lambda_func(x,y)\n",
    " Out: -4.5\n",
    " \n",
    " In: x = 4.9\n",
    " In: y = 4.845\n",
    " In: your_lambda_func(x,y)\n",
    " Out: 0.055\n",
    " ```\n",
    " **Did you get the correct answer for the 2nd Test Case ([Hint](https://static.wikia.nocookie.net/star-wars-memes/images/c/c3/0F8D75BC-6506-4846-8C68-1EE9687EFC03.jpeg/))?**<br><br>\n",
    " \n",
    "8. Let *r1* and *r2* be the radius of circles with the same center and let *r2>r1*. Write a function *my\\_donut\\_area(r1, r2)*, where the output is the area outside of the circle with radius *r1* and inside the circle with radius *r2*. Make sure that the function is vectorized. Assume that *r1* and *r2* are one-dimensional array of the same size. \n",
    "\n",
    " Test Cases:\n",
    " \n",
    " ```python\n",
    " In: my_donut_area(np.arange(1, 4), np.arange(2, 7, 2))\n",
    " Out: array([9.4248, 37.6991, 84.8230])\n",
    " ```\n",
    " \n",
    "1. Write a function $my\\_within\\_tolerance(A, a, tol)$, where the output is an array or list of the indices in *A* such that  $|A-a| < \\text{tol}$. Assume that *A* is a one-dimensional float list or array and that *a* and *tol* are 1 by 1 floats. \n",
    "\n",
    " Test Cases:\n",
    " \n",
    " ```python\n",
    " In: my_within_tolerance([0, 1, 2, 3], 1.5, 0.75)\n",
    " Out: [1, 2]\n",
    "    \n",
    " In: my_within_tolerance(np.arange(0, 1.01, 0.01), 0.5, 0.03)\n",
    " Out: [47, 48, 49, 50, 51, 52]\n",
    " ```\n",
    " \n",
    "1. Write a function $bounding\\_array(A, top, bottom)$, where the output is equal to the array *A* wherever *bottom < A < top*, the output is equal to *bottom* wherever *A <= bottom*, and the output is equal to *top* wherever *A >= top*. Assume that *A* is one-dimensional float array and that *top* and *bottom* are 1 by 1 floats. \n",
    "\n",
    " Test Cases:\n",
    " \n",
    " ```python\n",
    " In: bounding_array(np.arange(-5, 6, 1), 3, -3)\n",
    " Out: [-3, -3, -3, -2, -1, 0, 1, 2, 3, 3, 3]\n",
    " ```"
   ]
  },
  {
   "cell_type": "markdown",
   "metadata": {},
   "source": [
    "## My solutions to Exercise 3"
   ]
  },
  {
   "cell_type": "code",
   "execution_count": 211,
   "metadata": {},
   "outputs": [
    {
     "name": "stdout",
     "output_type": "stream",
     "text": [
      "sinh(0) = 0.0000\n",
      "sinh(1) = 1.1752\n",
      "sinh(2) = 3.6269\n"
     ]
    }
   ],
   "source": [
    "## Problem 1\n",
    "import numpy as np\n",
    "\n",
    "def my_sinh(x:float):\n",
    "    return 0.5 * (np.exp(x) - np.exp(-x))\n",
    "\n",
    "# Test cases\n",
    "for x in [0, 1, 2]:\n",
    "    print(f\"sinh({x}) = {my_sinh(x):.4f}\")"
   ]
  },
  {
   "cell_type": "code",
   "execution_count": 243,
   "metadata": {},
   "outputs": [
    {
     "name": "stdout",
     "output_type": "stream",
     "text": [
      "Checkerboard of size 1 is:\n",
      "1\n",
      "Checkerboard of size 2 is:\n",
      "[[1 0]\n",
      " [0 1]]\n",
      "Checkerboard of size 3 is:\n",
      "[[1 0 1]\n",
      " [0 1 0]\n",
      " [1 0 1]]\n",
      "Checkerboard of size 5 is:\n",
      "[[1 0 1 0 1]\n",
      " [0 1 0 1 0]\n",
      " [1 0 1 0 1]\n",
      " [0 1 0 1 0]\n",
      " [1 0 1 0 1]]\n"
     ]
    }
   ],
   "source": [
    "## Problem 2\n",
    "def my_checker_board(n:int):\n",
    "    if n < 1:\n",
    "        raise ValueError(\"n should be a positive integer\")\n",
    "    if n == 1:\n",
    "        return n\n",
    "    else:\n",
    "        m = np.ones((n, n), dtype=int)\n",
    "        m[1::2, ::2] = 0\n",
    "        m[::2, 1::2] = 0\n",
    "\n",
    "        return m\n",
    "\n",
    "# Test cases\n",
    "for n in [1, 2, 3, 5]:\n",
    "    print(f\"Checkerboard of size {n} is:\")\n",
    "    print(my_checker_board(n))"
   ]
  },
  {
   "cell_type": "code",
   "execution_count": 249,
   "metadata": {},
   "outputs": [
    {
     "name": "stdout",
     "output_type": "stream",
     "text": [
      "Area of triangle with base = 1 , and height = 1  is 0.5\n",
      "Area of triangle with base = 2 , and height = 1  is 1.0\n",
      "Area of triangle with base = 12, and height = 500 is 3000.0\n"
     ]
    }
   ],
   "source": [
    "## Problem 3\n",
    "def my_triangle(b:float, h:float):\n",
    "    return 0.5 * b * h\n",
    "\n",
    "# Test cases\n",
    "for b, h in [(1, 1), (2, 1), (12, 5)]:\n",
    "    print(f\"Area of triangle with base = {b:<2}, and height = {h:<2} is {my_triangle(b, h)}\" )"
   ]
  },
  {
   "cell_type": "code",
   "execution_count": 280,
   "metadata": {},
   "outputs": [
    {
     "name": "stdout",
     "output_type": "stream",
     "text": [
      "[[1 2]\n",
      " [4 5]\n",
      " [7 8]]\n",
      "[[3]\n",
      " [6]\n",
      " [9]]\n",
      "[[1. 1. 1.]\n",
      " [1. 1. 1.]\n",
      " [1. 1. 1.]\n",
      " [1. 1. 1.]\n",
      " [1. 1. 1.]]\n",
      "[[1. 1.]\n",
      " [1. 1.]\n",
      " [1. 1.]\n",
      " [1. 1.]\n",
      " [1. 1.]]\n"
     ]
    }
   ],
   "source": [
    "## Problem 4\n",
    "def my_split_matrix(m:np.ndarray):\n",
    "    # get the colomn index to split\n",
    "    col = (m.shape[1] + 1)//2\n",
    "    \n",
    "    return m[:, :col], m[:, col:]\n",
    "\n",
    "# Test case 1\n",
    "m = np.array([[1, 2, 3], [4, 5, 6], [7, 8, 9]])\n",
    "m1, m2 = my_split_matrix(m)\n",
    "print(m1)\n",
    "print(m2)\n",
    "\n",
    "# Test case 2\n",
    "m = np.ones((5,5))\n",
    "m1, m2 = my_split_matrix(m)\n",
    "print(m1)\n",
    "print(m2)"
   ]
  },
  {
   "cell_type": "code",
   "execution_count": 284,
   "metadata": {},
   "outputs": [
    {
     "name": "stdout",
     "output_type": "stream",
     "text": [
      "[37.69911184307752, 15.707963267948966]\n",
      "[75.39822368615503, 50.26548245743669]\n"
     ]
    }
   ],
   "source": [
    "## Problem 5\n",
    "def my_cylinder(r:float, h:float):\n",
    "    surface = 2 * np.pi * r**2 + 2 * np.pi * r * h\n",
    "    volume = np.pi * r**2 * h\n",
    "    \n",
    "    return [surface, volume]\n",
    "\n",
    "# Test case 1\n",
    "print(my_cylinder(1, 5))\n",
    "\n",
    "# Test case 2\n",
    "print(my_cylinder(2, 4))"
   ]
  },
  {
   "cell_type": "code",
   "execution_count": 301,
   "metadata": {},
   "outputs": [
    {
     "name": "stdout",
     "output_type": "stream",
     "text": [
      "50\n",
      "0\n"
     ]
    }
   ],
   "source": [
    "## Problem 6\n",
    "def my_n_odds(a:np.ndarray):    \n",
    "    return np.size(a[a % 2 == 1])\n",
    "\n",
    "# Test case 1\n",
    "print(my_n_odds(np.arange(100)))\n",
    "\n",
    "# Test case 2\n",
    "print(my_n_odds(np.arange(2, 100, 2)))"
   ]
  },
  {
   "cell_type": "code",
   "execution_count": 310,
   "metadata": {},
   "outputs": [
    {
     "name": "stdout",
     "output_type": "stream",
     "text": [
      "-4.5\n",
      "0.055000000000000604\n"
     ]
    }
   ],
   "source": [
    "## Problem 7\n",
    "your_lambda_func = lambda x, y: x - y\n",
    "\n",
    "# Test case 1\n",
    "x = 8.5\n",
    "y = 13\n",
    "print(your_lambda_func(x,y))\n",
    "\n",
    "# Test case 2\n",
    "x = 4.9\n",
    "y = 4.845\n",
    "print(your_lambda_func(x,y))"
   ]
  },
  {
   "cell_type": "code",
   "execution_count": 312,
   "metadata": {},
   "outputs": [
    {
     "data": {
      "text/plain": [
       "array([ 9.42477796, 37.69911184, 84.82300165])"
      ]
     },
     "execution_count": 312,
     "metadata": {},
     "output_type": "execute_result"
    }
   ],
   "source": [
    "## Problem 8\n",
    "def my_donut_area(r1:float, r2: float):\n",
    "    return np.pi * (r2**2 - r1**2)\n",
    "\n",
    "# vectorize the my_donut_area function\n",
    "my_donut_area = np.vectorize(my_donut_area)\n",
    "\n",
    "my_donut_area(np.arange(1, 4), np.arange(2, 7, 2))"
   ]
  },
  {
   "cell_type": "code",
   "execution_count": 321,
   "metadata": {},
   "outputs": [
    {
     "name": "stdout",
     "output_type": "stream",
     "text": [
      "[1, 2]\n",
      "[47, 48, 49, 50, 51, 52]\n"
     ]
    }
   ],
   "source": [
    "## Problem 9\n",
    "def my_within_tolerance(A, a:float, tol:float):\n",
    "    indx = []\n",
    "    for i, v in enumerate(A):\n",
    "        if abs(v-a) < tol:\n",
    "            indx.append(i)     \n",
    "    return indx\n",
    "\n",
    "# Test case 1\n",
    "print(my_within_tolerance([0, 1, 2, 3], 1.5, 0.75))\n",
    "\n",
    "# Test case 2\n",
    "print(my_within_tolerance(np.arange(0, 1.01, 0.01), 0.5, 0.03))"
   ]
  },
  {
   "cell_type": "code",
   "execution_count": 322,
   "metadata": {},
   "outputs": [
    {
     "name": "stdout",
     "output_type": "stream",
     "text": [
      "[-3 -3 -3 -2 -1  0  1  2  3  3  3]\n"
     ]
    }
   ],
   "source": [
    "## Problem 10\n",
    "def bounding_array(A:np.ndarray, top:float, bottom:float):\n",
    "    \n",
    "    A[A>top] = top\n",
    "    A[A<bottom] = bottom\n",
    "\n",
    "    return A\n",
    "\n",
    "# Test case\n",
    "print(bounding_array(np.arange(-5, 6, 1), 3, -3))"
   ]
  },
  {
   "cell_type": "markdown",
   "metadata": {},
   "source": [
    "## Exercise 4: Branching Statements\n",
    "\n",
    "For this Exercise, you need to commplete all the following problems. Please comment your code when neccessary. Most of these problems were taken straight from  [Python Numerical Methods](https://pythonnumericalmethods.berkeley.edu/notebooks/chapter04.03-Summary-and-Problems.html#problems), but there have been modifications. Please read Chapter 4.\n",
    "\n",
    "\n",
    "#### For all of the problems, please use the cells provided for each problem."
   ]
  },
  {
   "cell_type": "markdown",
   "metadata": {},
   "source": [
    "### 1.\n",
    "Write a function `my_tip_calc(bill, party)`, where `bill` is the total cost of a meal and `party` is the number of people in the group. The tip should be calculated as 15% for a party strictly less than six people, 18% for a party strictly less than eight, 20% for a party less than 11, and 25% for a party 11 or more. A couple of test cases are given below. "
   ]
  },
  {
   "cell_type": "code",
   "execution_count": 323,
   "metadata": {},
   "outputs": [],
   "source": [
    "def my_tip_calc(bill, party):\n",
    "    # write your function code here\n",
    "    \n",
    "    if party < 6:\n",
    "        tips = bill * 0.15\n",
    "    elif party < 8:\n",
    "        tips = bill * 0.18\n",
    "    elif party < 11:\n",
    "        tips = bill * 0.20\n",
    "    else:\n",
    "        tips = bill * 0.25\n",
    "        \n",
    "    return tips"
   ]
  },
  {
   "cell_type": "code",
   "execution_count": 324,
   "metadata": {},
   "outputs": [
    {
     "name": "stdout",
     "output_type": "stream",
     "text": [
      "16.3935\n"
     ]
    }
   ],
   "source": [
    "# t = 16.3935\n",
    "t = my_tip_calc(109.29,3) \n",
    "print(t)"
   ]
  },
  {
   "cell_type": "code",
   "execution_count": 325,
   "metadata": {},
   "outputs": [
    {
     "name": "stdout",
     "output_type": "stream",
     "text": [
      "19.6722\n"
     ]
    }
   ],
   "source": [
    "# t = 19.6722\n",
    "t = my_tip_calc(109.29,7) \n",
    "print(t)"
   ]
  },
  {
   "cell_type": "code",
   "execution_count": 326,
   "metadata": {},
   "outputs": [
    {
     "name": "stdout",
     "output_type": "stream",
     "text": [
      "21.858000000000004\n"
     ]
    }
   ],
   "source": [
    "# t = 21.8580\n",
    "t = my_tip_calc(109.29,9)\n",
    "print(t)"
   ]
  },
  {
   "cell_type": "code",
   "execution_count": 327,
   "metadata": {},
   "outputs": [
    {
     "name": "stdout",
     "output_type": "stream",
     "text": [
      "27.3225\n"
     ]
    }
   ],
   "source": [
    "# t = 27.3225\n",
    "t = my_tip_calc(109.29,12)\n",
    "print(t)"
   ]
  },
  {
   "cell_type": "markdown",
   "metadata": {},
   "source": [
    "### 2.\n",
    "Write a function `my_mult_operation(a,b,operation)`. The input argument, `operation`, is a string that is either `'plus'`, `'minus'`, `'mult'`, `'div'`, or `'pow'`, and the function should compute: $a+b$, $a-b$, $a∗b$, $a/b$, and $a^b$ for the respective values for `operation`. A couple of test cases are given below. "
   ]
  },
  {
   "cell_type": "code",
   "execution_count": 337,
   "metadata": {},
   "outputs": [],
   "source": [
    "def my_mult_operation(a,b,operation):\n",
    "    # write your function code here\n",
    "    \n",
    "    if operation == 'plus':\n",
    "        out = a + b\n",
    "    elif operation == 'minus':\n",
    "        out = a - b\n",
    "    elif operation == 'mult':\n",
    "        out = a * b\n",
    "    elif operation == 'div':\n",
    "        out = a / b\n",
    "    elif operation == 'pow':\n",
    "        out = a ** b\n",
    "    else:\n",
    "        raise NotImplementedError(f\"operation {operation} is not supported yet\")\n",
    "        \n",
    "    return out"
   ]
  },
  {
   "cell_type": "code",
   "execution_count": 338,
   "metadata": {},
   "outputs": [],
   "source": [
    "x = np.array([1,2,3,4])\n",
    "y = np.array([2,3,4,5])"
   ]
  },
  {
   "cell_type": "code",
   "execution_count": 339,
   "metadata": {},
   "outputs": [
    {
     "data": {
      "text/plain": [
       "array([3, 5, 7, 9])"
      ]
     },
     "execution_count": 339,
     "metadata": {},
     "output_type": "execute_result"
    }
   ],
   "source": [
    "# Output: [3,5,7,9]\n",
    "my_mult_operation(x,y,'plus')"
   ]
  },
  {
   "cell_type": "code",
   "execution_count": 340,
   "metadata": {},
   "outputs": [
    {
     "data": {
      "text/plain": [
       "array([-1, -1, -1, -1])"
      ]
     },
     "execution_count": 340,
     "metadata": {},
     "output_type": "execute_result"
    }
   ],
   "source": [
    "# Output: [-1,-1,-1,-1]\n",
    "my_mult_operation(x,y,'minus')"
   ]
  },
  {
   "cell_type": "code",
   "execution_count": 341,
   "metadata": {},
   "outputs": [
    {
     "data": {
      "text/plain": [
       "array([ 2,  6, 12, 20])"
      ]
     },
     "execution_count": 341,
     "metadata": {},
     "output_type": "execute_result"
    }
   ],
   "source": [
    "# Output: [2,6,12,20]\n",
    "my_mult_operation(x,y,'mult')"
   ]
  },
  {
   "cell_type": "code",
   "execution_count": 342,
   "metadata": {},
   "outputs": [
    {
     "data": {
      "text/plain": [
       "array([0.5       , 0.66666667, 0.75      , 0.8       ])"
      ]
     },
     "execution_count": 342,
     "metadata": {},
     "output_type": "execute_result"
    }
   ],
   "source": [
    "# Output: [0.5,0.66666667,0.75,0.8]\n",
    "my_mult_operation(x,y,'div')"
   ]
  },
  {
   "cell_type": "code",
   "execution_count": 343,
   "metadata": {},
   "outputs": [
    {
     "data": {
      "text/plain": [
       "array([   1,    8,   81, 1024])"
      ]
     },
     "execution_count": 343,
     "metadata": {},
     "output_type": "execute_result"
    }
   ],
   "source": [
    "# Output: [1,8,81,1024]\n",
    "my_mult_operation(x,y,'pow')"
   ]
  },
  {
   "cell_type": "markdown",
   "metadata": {},
   "source": [
    "### 3. \n",
    "Consider a bounding-box with vertices at $(-1,-1)$, $(-1,1)$, $(1,1), and (1,-1)$. Write a function *my_inside_bbox(x,y)* where the output is the string 'outside' if the point $(x,y)$ is outside of the bouding-box, 'border' if the point is exactly on the border, and 'inside' if the point is on the inside of the bouding-box."
   ]
  },
  {
   "cell_type": "code",
   "execution_count": 344,
   "metadata": {},
   "outputs": [],
   "source": [
    "def my_inside_bbox(x,y):\n",
    "    # write your function code here\n",
    "    \n",
    "    xmin, xmax = -1, 1\n",
    "    ymin, ymax = -1, 1\n",
    "    \n",
    "    if xmin < x < xmax and ymin < y < ymax:\n",
    "        position = 'inside'\n",
    "    elif x < xmin or x > xmax or y < ymin or y > ymax:\n",
    "        position = 'outside'\n",
    "    else:\n",
    "        position = 'border'\n",
    "    \n",
    "    return position"
   ]
  },
  {
   "cell_type": "code",
   "execution_count": 345,
   "metadata": {},
   "outputs": [
    {
     "data": {
      "text/plain": [
       "'border'"
      ]
     },
     "execution_count": 345,
     "metadata": {},
     "output_type": "execute_result"
    }
   ],
   "source": [
    "# Output: 'border'\n",
    "my_inside_bbox(1,0.5)"
   ]
  },
  {
   "cell_type": "code",
   "execution_count": 346,
   "metadata": {},
   "outputs": [
    {
     "data": {
      "text/plain": [
       "'inside'"
      ]
     },
     "execution_count": 346,
     "metadata": {},
     "output_type": "execute_result"
    }
   ],
   "source": [
    "# Output: 'inside'\n",
    "my_inside_bbox(0.25,-0.25)"
   ]
  },
  {
   "cell_type": "code",
   "execution_count": 347,
   "metadata": {},
   "outputs": [
    {
     "data": {
      "text/plain": [
       "'outside'"
      ]
     },
     "execution_count": 347,
     "metadata": {},
     "output_type": "execute_result"
    }
   ],
   "source": [
    "# Output: 'outside'\n",
    "my_inside_bbox(5,5)"
   ]
  },
  {
   "cell_type": "markdown",
   "metadata": {},
   "source": [
    "### 4.\n",
    "Write a function *my_make_size10(x)*, where *x* is an array and output is the first 10 elements of *x* if *x* has more than 10 elements, and output is the array *x* padded with enough zeros to make it length 10 if *x* has less than 10 elements."
   ]
  },
  {
   "cell_type": "code",
   "execution_count": 363,
   "metadata": {},
   "outputs": [],
   "source": [
    "import numpy as np\n",
    "\n",
    "def my_make_size10(x):\n",
    "    # write your function code here\n",
    "    \n",
    "    # init size10 array\n",
    "    size10 = np.zeros(10)\n",
    "    \n",
    "    # output size from x\n",
    "    n = min(10, x.size)\n",
    "    \n",
    "    # extract data from x\n",
    "    size10[:n] = x[:n]\n",
    "    \n",
    "    return size10"
   ]
  },
  {
   "cell_type": "code",
   "execution_count": 364,
   "metadata": {},
   "outputs": [
    {
     "data": {
      "text/plain": [
       "array([1., 2., 0., 0., 0., 0., 0., 0., 0., 0.])"
      ]
     },
     "execution_count": 364,
     "metadata": {},
     "output_type": "execute_result"
    }
   ],
   "source": [
    "# Output: [1,2,0,0,0,0,0,0,0,0]\n",
    "my_make_size10(np.arange(1,3))"
   ]
  },
  {
   "cell_type": "code",
   "execution_count": 361,
   "metadata": {},
   "outputs": [
    {
     "data": {
      "text/plain": [
       "array([ 1.,  2.,  3.,  4.,  5.,  6.,  7.,  8.,  9., 10.])"
      ]
     },
     "execution_count": 361,
     "metadata": {},
     "output_type": "execute_result"
    }
   ],
   "source": [
    "# Output: [1,2,3,4,5,6,7,8,9,10]\n",
    "my_make_size10(np.arange(1,16))"
   ]
  },
  {
   "cell_type": "code",
   "execution_count": 362,
   "metadata": {},
   "outputs": [
    {
     "data": {
      "text/plain": [
       "array([ 3.,  6., 13.,  4.,  0.,  0.,  0.,  0.,  0.,  0.])"
      ]
     },
     "execution_count": 362,
     "metadata": {},
     "output_type": "execute_result"
    }
   ],
   "source": [
    "# Output: [3,6,13,4,0,0,0,0,0,0]\n",
    "my_make_size10(np.array([3,6,13,4,0]))"
   ]
  },
  {
   "cell_type": "markdown",
   "metadata": {},
   "source": [
    "### 5.\n",
    "Most engineering systems have redundancy. That is, an engineering system has more than is required to accomplish its purpose. Consider a nuclear reactor whose temperature is monitored by three sensors. An alarm should go off if any two of the sensor readings disagree. Write a function *my_nuke_alarm(s1,s2,s3)* where *s1*, *s2*, and *s3* are the temperature readings for sensor 1, sensor 2, and sensor 3, respectively. The output should be the string 'alarm!' if any two of the temperature readings disagree by strictly more than 10 degrees and 'normal' otherwise."
   ]
  },
  {
   "cell_type": "code",
   "execution_count": 369,
   "metadata": {},
   "outputs": [],
   "source": [
    "def my_nuke_alarm(s1,s2,s3):\n",
    "    # write your function code here\n",
    "    \n",
    "    if abs(s1 - s2) <= 10 and abs(s1 - s3) <= 10 and abs(s2 - s3) <= 10:\n",
    "        response = 'normal'\n",
    "    else:\n",
    "        response = 'alarm!'\n",
    "    \n",
    "    return response"
   ]
  },
  {
   "cell_type": "code",
   "execution_count": 370,
   "metadata": {},
   "outputs": [
    {
     "data": {
      "text/plain": [
       "'normal'"
      ]
     },
     "execution_count": 370,
     "metadata": {},
     "output_type": "execute_result"
    }
   ],
   "source": [
    "#Output: 'normal'\n",
    "my_nuke_alarm(94,96,90)"
   ]
  },
  {
   "cell_type": "code",
   "execution_count": 371,
   "metadata": {},
   "outputs": [
    {
     "data": {
      "text/plain": [
       "'alarm!'"
      ]
     },
     "execution_count": 371,
     "metadata": {},
     "output_type": "execute_result"
    }
   ],
   "source": [
    "#Output: 'alarm!'\n",
    "my_nuke_alarm(94,96,80)"
   ]
  },
  {
   "cell_type": "code",
   "execution_count": 372,
   "metadata": {},
   "outputs": [
    {
     "data": {
      "text/plain": [
       "'normal'"
      ]
     },
     "execution_count": 372,
     "metadata": {},
     "output_type": "execute_result"
    }
   ],
   "source": [
    "#Output: 'normal'\n",
    "my_nuke_alarm(100,96,90)"
   ]
  },
  {
   "cell_type": "markdown",
   "metadata": {},
   "source": [
    "### 6.\n",
    "Let Q(x) be the quadratic equation $Q(x) = ax^2 + bx + c$ for some scalar values *a*, *b*, and *c*. A root of $Q(x)$ is an *r* such that $Q(r) = 0$. The two roots of a quadratic equation can be described by the quadratic formula, which is\n",
    "\n",
    "$$r = \\frac{-b\\pm\\sqrt{b^2-4ac}}{2a}$$\n",
    "\n",
    "A quadratic equation has either two real roots (i.e., $b^2 > 4ac$), two imaginary roots (i.e., $b^2 < 4ac$), or one root, $r = − \\frac{b}{2a}$.\n",
    "\n",
    "Write a function *my_n_roots(a,b,c)*, where *a*, *b*, and *c* are the coefficients of the quadratic $Q(x)$, the function should return two values: *n_roots* and *r*. *n_roots* is 2 if *Q* has two real roots, 1 if *Q* has one root, −2 if *Q* has two imaginary roots, and *r* is an array containing the roots of *Q*."
   ]
  },
  {
   "cell_type": "code",
   "execution_count": 381,
   "metadata": {},
   "outputs": [],
   "source": [
    "def my_n_roots(a,b,c):\n",
    "    # write your function code here\n",
    "    \n",
    "    discriminant = b**2 - 4 * a * c \n",
    "    \n",
    "    if discriminant == 0:\n",
    "        n_roots = 1\n",
    "        r = np.array(- b / (2 * a) ) \n",
    "    elif discriminant > 0:\n",
    "        n_roots = 2\n",
    "        r1 = (-b + np.sqrt(discriminant)) / (2 * a)  \n",
    "        r2 = (-b - np.sqrt(discriminant)) / (2 * a)  \n",
    "        r  = np.array([r1, r2])\n",
    "    else:\n",
    "        n_roots = -2\n",
    "        r1 = complex(-b, np.sqrt(-discriminant)) / (2 * a)  \n",
    "        r  = np.array([r1, np.conj(r1)])\n",
    "            \n",
    "    return n_roots, r"
   ]
  },
  {
   "cell_type": "code",
   "execution_count": 382,
   "metadata": {},
   "outputs": [
    {
     "name": "stdout",
     "output_type": "stream",
     "text": [
      "2 [ 3. -3.]\n"
     ]
    }
   ],
   "source": [
    "# Output: n_roots = 2, r = [3, -3]\n",
    "n_roots, r = my_n_roots(1,0,-9)\n",
    "print(n_roots, r)"
   ]
  },
  {
   "cell_type": "code",
   "execution_count": 383,
   "metadata": {},
   "outputs": [
    {
     "data": {
      "text/plain": [
       "(-2, array([-0.66666667+1.1055416j, -0.66666667-1.1055416j]))"
      ]
     },
     "execution_count": 383,
     "metadata": {},
     "output_type": "execute_result"
    }
   ],
   "source": [
    "# Output: n_roots = -2, r = [(-0.6667 + 1.1055j), (-0.6667 - 1.1055j)]\n",
    "my_n_roots(3,4,5)"
   ]
  },
  {
   "cell_type": "code",
   "execution_count": 380,
   "metadata": {},
   "outputs": [
    {
     "data": {
      "text/plain": [
       "(1, array(-1.))"
      ]
     },
     "execution_count": 380,
     "metadata": {},
     "output_type": "execute_result"
    }
   ],
   "source": [
    "# Output: n_roots = 1, r = [1]\n",
    "my_n_roots(2,4,2)"
   ]
  },
  {
   "cell_type": "markdown",
   "metadata": {},
   "source": [
    "## Exercise 5: Loops (Iterations)\n",
    "\n",
    "For this Exercise, you need to commplete all the following problems. Please comment your code when neccessary. Most of these problems were taken straight from  [Python Numerical Methods](https://pythonnumericalmethods.berkeley.edu/notebooks/chapter05.04-Summary-and-Problems.html#problems), but there have been modifications. Please read chapter 5.\n",
    "\n",
    "\n",
    "#### For all of the problems, please use the cells provided for each problem."
   ]
  },
  {
   "cell_type": "markdown",
   "metadata": {},
   "source": [
    "### 1. \n",
    "What will the value of y be after the following code is executed? Try to figure this out without running code.\n",
    "\n",
    "```python\n",
    "y = 0\n",
    "for i in range(1000):\n",
    "    for j in range(1000):\n",
    "        if i == j:\n",
    "            y += 1\n",
    "```"
   ]
  },
  {
   "cell_type": "markdown",
   "metadata": {},
   "source": [
    "**Type your answer to Problem 1 here:** 1000"
   ]
  },
  {
   "cell_type": "markdown",
   "metadata": {},
   "source": [
    "### 2.\n",
    "Write a function *my_n_max(x, n)* to return a list consisting of the n largest elements of *x*. You may use Python's *max* function. You may also assume that *x* is a one-dimensional list with no duplicate entries, and that *n* is strictly positive integer smaller than the length of *x* "
   ]
  },
  {
   "cell_type": "code",
   "execution_count": 397,
   "metadata": {},
   "outputs": [],
   "source": [
    "x = [7, 9, 10, 5, 8, 3, 4, 6, 2, 1]\n",
    "n = 3\n",
    "def my_n_max(x, n):\n",
    "    # write your function code here\n",
    "    \n",
    "    out = sorted(x, reverse=True)[:n]\n",
    "    \n",
    "    return out"
   ]
  },
  {
   "cell_type": "code",
   "execution_count": 398,
   "metadata": {},
   "outputs": [
    {
     "name": "stdout",
     "output_type": "stream",
     "text": [
      "[10, 9, 8]\n"
     ]
    }
   ],
   "source": [
    "# Output = [10, 9, 8]\n",
    "out = my_n_max(x, n)\n",
    "print(out)"
   ]
  },
  {
   "cell_type": "markdown",
   "metadata": {},
   "source": [
    "### 3.\n",
    "Let *P* be an $m \\times p$ array and Q be a $p \\times n$ array. As you will find later in this book, $M = P \\times Q$ is defined as $M[i, j] = \\sum_{k=1}^{p}P[i, k]\\cdot Q[k, j]$. Write a function *my_mat_mult(P, Q) that uses for-loops to compute *M*, the matrix product of *P* and *Q*. Hint: You may need up to three nested for-loops. Do **NOT** use the function *np.dot()*."
   ]
  },
  {
   "cell_type": "code",
   "execution_count": 409,
   "metadata": {},
   "outputs": [],
   "source": [
    "import numpy as np\n",
    "\n",
    "def my_mat_mult(P, Q):\n",
    "    # write your function code here\n",
    "    \n",
    "    # check shapes of P and Q\n",
    "    if P.shape[1] != Q.shape[0]:\n",
    "        raise ValueError(\"P.shape[1] should equal Q.shape[0]\")\n",
    "    \n",
    "    # get array size\n",
    "    m = P.shape[0]    \n",
    "    p = P.shape[1]   \n",
    "    n = Q.shape[1]   \n",
    "    \n",
    "    # perform matrix product\n",
    "    M = np.zeros((m, n))\n",
    "    for i in range(m):\n",
    "        for j in range(n):\n",
    "            for k in range(p):\n",
    "                M[i, j] += P[i, k] * Q[k, j]\n",
    "    \n",
    "    return M"
   ]
  },
  {
   "cell_type": "code",
   "execution_count": 410,
   "metadata": {},
   "outputs": [
    {
     "data": {
      "text/plain": [
       "array([[3., 3., 3.],\n",
       "       [3., 3., 3.],\n",
       "       [3., 3., 3.]])"
      ]
     },
     "execution_count": 410,
     "metadata": {},
     "output_type": "execute_result"
    }
   ],
   "source": [
    "# Output:\n",
    "#  array([[3., 3., 3.],\n",
    "#        [3., 3., 3.],\n",
    "#        [3., 3., 3.]])\n",
    "\n",
    "P = np.ones((3, 3))\n",
    "my_mat_mult(P, P)"
   ]
  },
  {
   "cell_type": "code",
   "execution_count": 411,
   "metadata": {},
   "outputs": [
    {
     "data": {
      "text/plain": [
       "array([[30., 30., 30.],\n",
       "       [70., 70., 70.]])"
      ]
     },
     "execution_count": 411,
     "metadata": {},
     "output_type": "execute_result"
    }
   ],
   "source": [
    "# Output:\n",
    "# array([[30, 30, 30],\n",
    "#       [70, 70, 70]])\n",
    "\n",
    "P = np.array([[1, 2, 3, 4], [5, 6, 7, 8]])\n",
    "Q = np.array([[1, 1, 1], [2, 2, 2], [3, 3, 3], [4, 4, 4]])\n",
    "my_mat_mult(P, Q)"
   ]
  },
  {
   "cell_type": "markdown",
   "metadata": {},
   "source": [
    "### 4. \n",
    "The interest, $i$, on a principle, $P_0$, is a payment for allowing the bank to use your money. Compound interest is accumulated according to the formula $P_n = (1 + i)P_{n-1}$, where n is the compounding period, usually in months or years. Write a function *my_saving_plan(P0, i, goal)* where the output is the number of years it will take $P_0$ to become goal at $i\\%$ interest compounded annually. "
   ]
  },
  {
   "cell_type": "code",
   "execution_count": 454,
   "metadata": {},
   "outputs": [],
   "source": [
    "def my_saving_plan(P0, i, goal):\n",
    "    # write your function code here\n",
    "    \n",
    "    years = 0\n",
    "    while (P0 < goal):\n",
    "        P0 = P0 * (1 + i)\n",
    "        years += 1\n",
    "    \n",
    "    return years"
   ]
  },
  {
   "cell_type": "code",
   "execution_count": 455,
   "metadata": {},
   "outputs": [
    {
     "data": {
      "text/plain": [
       "15"
      ]
     },
     "execution_count": 455,
     "metadata": {},
     "output_type": "execute_result"
    }
   ],
   "source": [
    "# Output: 15\n",
    "my_saving_plan(1000, 0.05, 2000)"
   ]
  },
  {
   "cell_type": "code",
   "execution_count": 456,
   "metadata": {},
   "outputs": [
    {
     "data": {
      "text/plain": [
       "11"
      ]
     },
     "execution_count": 456,
     "metadata": {},
     "output_type": "execute_result"
    }
   ],
   "source": [
    "# Output: 11\n",
    "my_saving_plan(1000, 0.07, 2000)"
   ]
  },
  {
   "cell_type": "code",
   "execution_count": 457,
   "metadata": {},
   "outputs": [
    {
     "data": {
      "text/plain": [
       "21"
      ]
     },
     "execution_count": 457,
     "metadata": {},
     "output_type": "execute_result"
    }
   ],
   "source": [
    "# Output: 21\n",
    "my_saving_plan(500, 0.07, 2000)"
   ]
  },
  {
   "cell_type": "markdown",
   "metadata": {},
   "source": [
    "### 5.\n",
    "Write a function *my_trig_odd_even(M)*, where the output $Q[i, j] = sin (\\pi/M[i, j])$ if $M[i,j]$ is odd, and $Q[i, j] = cos (\\pi/M[i, j])$ if $M[i, j]$ is even. Assume that M is a two-dimensional array of strictly positive integers."
   ]
  },
  {
   "cell_type": "code",
   "execution_count": 438,
   "metadata": {},
   "outputs": [],
   "source": [
    "def my_trig_odd_even(M):\n",
    "    # write your function code here\n",
    "    \n",
    "    m, n = M.shape\n",
    "    Q = np.zeros((m, n))\n",
    "    \n",
    "    for i in range(m):\n",
    "        for j in range(n):\n",
    "            if M[i, j] % 2 == 0:\n",
    "                Q[i, j] = np.cos(np.pi / M[i, j])\n",
    "            else:\n",
    "                Q[i, j] = np.sin(np.pi / M[i, j])\n",
    "\n",
    "    return Q"
   ]
  },
  {
   "cell_type": "code",
   "execution_count": 439,
   "metadata": {},
   "outputs": [
    {
     "data": {
      "text/plain": [
       "array([[0.8660254 , 0.70710678],\n",
       "       [0.8660254 , 0.43388374]])"
      ]
     },
     "execution_count": 439,
     "metadata": {},
     "output_type": "execute_result"
    }
   ],
   "source": [
    "# Output: [[0.8660, 0.7071], [0.8660, 0.4339]]\n",
    "M = np.array([[3, 4], [6, 7]])\n",
    "my_trig_odd_even(M)"
   ]
  },
  {
   "cell_type": "markdown",
   "metadata": {},
   "source": [
    "### 6. \n",
    "Turn the list *words* of lower case characters to upper case using list comprehension. "
   ]
  },
  {
   "cell_type": "code",
   "execution_count": 412,
   "metadata": {},
   "outputs": [
    {
     "name": "stdout",
     "output_type": "stream",
     "text": [
      "['TEST', 'DATA', 'ANALYZE']\n"
     ]
    }
   ],
   "source": [
    "words = ['test', 'data', 'analyze']\n",
    "words_upper = [word.upper() for word in words]\n",
    "print(words_upper)"
   ]
  },
  {
   "cell_type": "code",
   "execution_count": null,
   "metadata": {},
   "outputs": [],
   "source": []
  }
 ],
 "metadata": {
  "kernelspec": {
   "display_name": "Python 3 (ipykernel)",
   "language": "python",
   "name": "python3"
  },
  "language_info": {
   "codemirror_mode": {
    "name": "ipython",
    "version": 3
   },
   "file_extension": ".py",
   "mimetype": "text/x-python",
   "name": "python",
   "nbconvert_exporter": "python",
   "pygments_lexer": "ipython3",
   "version": "3.9.13"
  }
 },
 "nbformat": 4,
 "nbformat_minor": 4
}
