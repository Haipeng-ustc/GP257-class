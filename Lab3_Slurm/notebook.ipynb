{
 "cells": [
  {
   "cell_type": "markdown",
   "id": "2825d6cb-e15e-4a79-a3c7-c1a2b5954beb",
   "metadata": {},
   "source": [
    "# Getting started with slurm\n",
    "\n",
    "\n",
    "## Summary \n",
    "\n",
    "In this lab you will learn some of the basics of slurm and a few of the more advanced features that you might helpful in the future. We will be doing this lab on our class cluster but everything we are doing will also work on Stanford's Sherlock system (or any other slurm cluster) often with more interesting results because they are bigger more complex systems.\n",
    "\n",
    "\n",
    "# Slurm basics\n",
    "\n",
    "\n",
    "Slurm is a workload manager. Its jobs is to efficiently and fairly provide cluster resources. A slurm controlled cluster is ususally broken up into parittions where different sets of rules on use and are often composed of different hardware.  You use slurm resources by making a request to the slurm controller node for resources.  Your request is evaluated for priority based on what are referred to as \"fairshare\" rules. When there are free resources and you have the top priority you are granted access."
   ]
  },
  {
   "cell_type": "markdown",
   "id": "178589bb-4449-4a10-843f-264227c0bc10",
   "metadata": {},
   "source": [
    "## sinfo\n",
    "\n",
    "The sinfo command is very valuable way to find out about a cluster. Using the command without any options will give you a general idea about the cluster you are using.\n"
   ]
  },
  {
   "cell_type": "code",
   "execution_count": 10,
   "id": "96704bf6-93cd-4719-a98a-53d411706bde",
   "metadata": {},
   "outputs": [
    {
     "name": "stdout",
     "output_type": "stream",
     "text": [
      "PARTITION AVAIL  TIMELIMIT  NODES  STATE NODELIST\n",
      "debug*       up   infinite     11  idle~ slurm-gp257-devel-compute-0-[1-11]\n",
      "debug*       up   infinite      1  alloc slurm-gp257-devel-compute-0-0\n",
      "cpu          up   infinite      5  idle~ slurm-gp257-devel-compute-1-[0-4]\n",
      "t4           up   infinite      9  idle~ slurm-gp257-devel-compute-2-[1-9]\n",
      "t4           up   infinite      1  alloc slurm-gp257-devel-compute-2-0\n",
      "preempt      up   infinite     49  idle~ slurm-gp257-devel-compute-3-[1-49]\n",
      "preempt      up   infinite      1  alloc slurm-gp257-devel-compute-3-0\n"
     ]
    }
   ],
   "source": [
    "!sinfo"
   ]
  },
  {
   "cell_type": "markdown",
   "id": "6e58793c-5747-4e40-80c0-0bda6c0e501a",
   "metadata": {},
   "source": [
    "By default the sinfo command gives you the names of the various partitions, the number of nodes in each partition, their status, and the name of the nodes in the various partitions.  This represents a very small amount of the sinfo commands capabilites. For example I can find the number of cores on a given node using the -n (for a specific node) and -O (for specific information) flags."
   ]
  },
  {
   "cell_type": "code",
   "execution_count": 11,
   "id": "e18390ac-fa4e-4a15-af63-18817cfe6f0c",
   "metadata": {},
   "outputs": [
    {
     "name": "stdout",
     "output_type": "stream",
     "text": [
      "TMP_DISK            \n",
      "0                   \n"
     ]
    }
   ],
   "source": [
    "!sinfo -n slurm-gp257-devel-compute-0-0 -O CORES -O DISK"
   ]
  },
  {
   "cell_type": "markdown",
   "id": "7e4a2f5a-4fa7-49d0-af8d-f8dcb2a04a07",
   "metadata": {},
   "source": [
    "Below are some additional useful options.  Generic resources, Gres, refers to GPUs among other things.\n",
    "\n",
    "\n",
    "| Option | Description|\n",
    "| :--- | ------- |\n",
    "| Cores | Number of cores per socket.|\n",
    "| Disk  | Size of temporary disk space per node in megabytes.|\n",
    "| FreeMem | The total memory, in MB, currently free on the node as reported by the OS. This value is for informational use only and is not used for scheduling.|\n",
    "| Gres  | Generic resources (gres) associated with the nodes. |\n",
    "| GresUsed | Generic resources (gres) currently in use on the nodes. |\n",
    "| Memory | Size of memory per node in megabytes. |\n",
    "| c  | Preemption mode. |\n",
    "|  Threads | Number of threads per core. |\n",
    "| Time  |Maximum time for any job in the format \"days-hours:minutes:seconds\". |\n"
   ]
  },
  {
   "cell_type": "markdown",
   "id": "ec565402-7960-45e7-9957-305f4af2e18e",
   "metadata": {},
   "source": [
    "In the cell below build a table describing the nodes on the cluster using the above commmand."
   ]
  },
  {
   "cell_type": "code",
   "execution_count": 12,
   "id": "cba4f867-45d3-41e2-bd6a-195edb52c216",
   "metadata": {},
   "outputs": [
    {
     "name": "stdout",
     "output_type": "stream",
     "text": [
      "\t\t\tINFO: \tCores   \tDisk    \tFreeMem \tGres    \tGresUsed\tMemory  \tThreads \tTime    \n",
      "slurm-gp257-devel-compute-0-0\t4       \t0       \t29210   \t(null)  \tgpu:0   \t31408   \t1       \tinfinite\n",
      "slurm-gp257-devel-compute-0-1\t4       \t0       \t29726   \t(null)  \tgpu:0   \t31408   \t1       \tinfinite\n",
      "slurm-gp257-devel-compute-0-2\t4       \t0       \t30788   \t(null)  \tgpu:0   \t31408   \t1       \tinfinite\n",
      "slurm-gp257-devel-compute-0-3\t4       \t0       \t30753   \t(null)  \tgpu:0   \t31408   \t1       \tinfinite\n",
      "slurm-gp257-devel-compute-0-4\t4       \t0       \t30752   \t(null)  \tgpu:0   \t31408   \t1       \tinfinite\n",
      "slurm-gp257-devel-compute-0-5\t4       \t0       \t30752   \t(null)  \tgpu:0   \t31408   \t1       \tinfinite\n",
      "slurm-gp257-devel-compute-0-6\t4       \t0       \t30761   \t(null)  \tgpu:0   \t31408   \t1       \tinfinite\n",
      "slurm-gp257-devel-compute-0-7\t4       \t0       \t30752   \t(null)  \tgpu:0   \t31408   \t1       \tinfinite\n",
      "slurm-gp257-devel-compute-0-8\t4       \t0       \t30748   \t(null)  \tgpu:0   \t31408   \t1       \tinfinite\n",
      "slurm-gp257-devel-compute-0-9\t4       \t0       \t30742   \t(null)  \tgpu:0   \t31408   \t1       \tinfinite\n",
      "slurm-gp257-devel-compute-0-10\t4       \t0       \t30752   \t(null)  \tgpu:0   \t31408   \t1       \tinfinite\n",
      "slurm-gp257-devel-compute-0-11\t4       \t0       \t30752   \t(null)  \tgpu:0   \t31408   \t1       \tinfinite\n"
     ]
    }
   ],
   "source": [
    "def print_cluster_info(cluster_name, node_start, node_end):\n",
    "    options = ['Cores', 'Disk', 'FreeMem', 'Gres', 'GresUsed', 'Memory', 'Threads', 'Time']\n",
    "    info = '\\t\\t\\tINFO: '\n",
    "    for opt in options:\n",
    "        info += f\"\\t{opt:8}\" \n",
    "    print(info)\n",
    "    \n",
    "    \n",
    "    for inode in range(node_start, node_end+1):\n",
    "        node_name = cluster_name + f'-{inode}'\n",
    "        node_info = node_name\n",
    "        for opt in options:\n",
    "            out = !sinfo -n $node_name -O $opt\n",
    "            node_info += f\"\\t{out[1].strip():8}\"\n",
    "        print(node_info)\n",
    "\n",
    "print_cluster_info('slurm-gp257-devel-compute-0', 0, 11)"
   ]
  },
  {
   "cell_type": "markdown",
   "id": "9263736a-e55e-4845-b852-b6a6678ef5f6",
   "metadata": {},
   "source": [
    "# squeue\n",
    "\n",
    "Thre squeue command gives us information about what is actually running on the cluster.  Often it useful to use the -p partiton option to reduce the infomation it produces on a cluster.\n"
   ]
  },
  {
   "cell_type": "code",
   "execution_count": 13,
   "id": "3f4706e9-bccb-412a-81ff-c5a08f71ca2c",
   "metadata": {},
   "outputs": [
    {
     "name": "stdout",
     "output_type": "stream",
     "text": [
      "             JOBID PARTITION     NAME     USER ST       TIME  NODES NODELIST(REASON)\n",
      "              1947     debug     bash haipeng_  R       6:45      1 slurm-gp257-devel-compute-0-0\n"
     ]
    }
   ],
   "source": [
    "! squeue -p debug"
   ]
  },
  {
   "cell_type": "markdown",
   "id": "00840058-02c2-4abd-87c8-f232e091b7d8",
   "metadata": {},
   "source": [
    "The results of the command gives you all the jobs that have been submitted to the cluster. It displays the jobid, the parition the job has been submitted, its status, how long it has been running, and the nodes the job is running on.  Below is the list of status possibilites.\n",
    "\n",
    "\n",
    "|Status|Code|Explaination|\n",
    "| ----- | ------ | ----- |\n",
    "|COMPLETED|CD|The job has completed successfully.|\n",
    "|COMPLETING|CG|The job is finishing but some processes are still active.|\n",
    "|FAILED|F|The job terminated with a non-zero exit code and failed to execute.|\n",
    "|PENDING|PD|The job is waiting for resource allocation. It will eventually run.|\n",
    "|PREEMPTED|PR|The job was terminated because of preemption by another job.|\n",
    "|RUNNING|R|The job currently is allocated to a node and is running.|\n",
    "|SUSPENDED|S| A running job has been stopped with its cores released to other jobs.|\n",
    "|STOPPED|ST|A running job has been stopped with its cores retained.|"
   ]
  },
  {
   "cell_type": "markdown",
   "id": "0af5cd69-8081-46f0-aada-b7c2ba272059",
   "metadata": {},
   "source": [
    "The squeue and sinfo together provide a powerful tool in combination if you can't figure out why your job isn't starting (or fails)\". Somplex examples include\n",
    "- If you are requesting a job using a number of nodes you can see how many nodes are being currently used. Is it all by one user?\n",
    "- If your job will not start, are you requesting more memory that in on the queue, more processors?\n",
    "- Are other users using up all of the memory /GPUs currently?\n"
   ]
  },
  {
   "cell_type": "markdown",
   "id": "575a1fa7-3ab1-40c3-b3cc-da3ab601e895",
   "metadata": {},
   "source": [
    "# salloc, sbatch, and srun\n",
    "\n",
    "There are two general ways to request slurm resources, salloc and sbatch.  The easiest way to remember the differece is to use salloc when you want to do something interactivelty, sbatch when you are wanting a submit a job that runs eventually.  srun is used to launch jobs on these allocated resources but can be used directly (in whcih case it calls an salloc behind the scenes). \n",
    "\n",
    "The command you used to start this lab is a simple example\n",
    "\n",
    "srun --pty --x11 /bin/bash\n",
    "\n",
    "Here we requesteed a node on the default partition, with the default amount of memory, for the default amount of time, with a single core, said we wanted to run in terminal mode, and ran the command bash. \n",
    "\n",
    "In almost all cases you want to specify the resources you want to use it and the time you want to use them. The primary reason you want to specify the resources you need is the defults are often not approriate. You many need more memory, need more cores, etc. Almost as important is that it can often time give you an advatnage with the scheduler. If your job doesn't take much memory when another user is using most of the memory on a node, your job will start, while someone using the default might not. If the scheduler is trying to run a job that requires many cores, specifying your job will only run for a few minutes, the scheduler will run your job while waiting for other jobs to finish.\n",
    "\n",
    "\n",
    "\n"
   ]
  },
  {
   "cell_type": "markdown",
   "id": "14befb10-e4b9-4204-ad74-ed5a3dbff73b",
   "metadata": {},
   "source": [
    "# Specifying job parameters (the basics)\n",
    "\n",
    "We can specify slurm configuration parameters on the command line, or when using sbatch in the submission shell file by begining a line with #SBATCH before specify an option.\n",
    "\n",
    "We can specify the parition using the -partition partName flag. The length of a job with --time=day-hours:minutes:seconds.  We can specify to use gpus by using the gres flag  --gres=gpu[[:type]:number].\n",
    "\n",
    "\n",
    "## Specifying tasks\n",
    "\n",
    "Slurm thinks of a job that has one or tasks. These task(s) run on one or more nodes.  We specify the number of tasks using --ntasks=ntasks.  If each parallel tasks uses multiple cores we can use --cpus-per-task=ncpus.  We can specify multiple tasks per core (--tasks-per-cpu=tasks) or node (--tasks-per-nodes). \n",
    "\n",
    "## Memory\n",
    "\n",
    "There are a number of ways to specify. We can specify the total memory for a job with --mem=<size>units. We can also specify memory per cpu --mem-per-cpu=<size>[units] and per GPU --mem-per-gpu=<size>[units].\n",
    "\n"
   ]
  },
  {
   "cell_type": "markdown",
   "id": "21797228",
   "metadata": {},
   "source": [
    "# Simple submission\n",
    "\n",
    "In this part of the lab you will write a simple program to calculate pi using Leibniz’s formula.\n",
    "\n",
    "\n",
    "X = 4 - 4/3 + 4/5 - 4/7 + 4/9 - ....\n",
    "\n",
    "This series is never-ending, the more the terms this series contains, the closer the value of X converges to Pi value.\n",
    "\n",
    "Use the next three cells to \n",
    "\n",
    "- write and save a python script that caclulates Pi using Leibniz formula. You should sum to 1000000 terms.\n",
    "- write a sbatch that\n",
    "    - submits a job to the compute partition\n",
    "    - submits a time limit of 2 hours for the job\n",
    "    - specifies one GB of memory\n",
    "    - runs on a single core\n",
    "- submits the jobs to the cluster\n"
   ]
  },
  {
   "cell_type": "code",
   "execution_count": 14,
   "id": "ab95a2b1-4aea-409a-96b5-1edca73cb8ab",
   "metadata": {},
   "outputs": [
    {
     "name": "stdout",
     "output_type": "stream",
     "text": [
      "Overwriting leib.py\n"
     ]
    }
   ],
   "source": [
    "%%writefile leib.py\n",
    "#!/usr/bin/env python3\n",
    "\n",
    "ite_num = 1000000\n",
    "\n",
    "res = 0\n",
    "for i in range(ite_num):\n",
    "     res += 4 * ((-1) ** i) / (2 * i + 1)\n",
    "\n",
    "    \n",
    "f=open(\"result1.txt\",\"w\")\n",
    "f.write(f\"{res}\")\n",
    "f.close()"
   ]
  },
  {
   "cell_type": "code",
   "execution_count": 15,
   "id": "6f9f2f53-c041-4c58-8c40-2c4c1c4aa759",
   "metadata": {},
   "outputs": [
    {
     "name": "stdout",
     "output_type": "stream",
     "text": [
      "Overwriting submit.sh\n"
     ]
    }
   ],
   "source": [
    "%%writefile submit.sh\n",
    "#!/bin/bash\n",
    "#SBATCH --job-name=lesib\n",
    "#SBATCH --partition=debug\n",
    "#SBATCH --ntasks=1\n",
    "#SBATCH --cpus-per-task=1\n",
    "#SBATCH --time=02:00:00\n",
    "#SBATCH --mem-per-cpu=1GB\n",
    "\n",
    "spack load python@3.10.8\n",
    "python3 ./leib.py"
   ]
  },
  {
   "cell_type": "code",
   "execution_count": 16,
   "id": "010ec9b4-444f-454d-8a93-cd145b48be81",
   "metadata": {},
   "outputs": [
    {
     "name": "stdout",
     "output_type": "stream",
     "text": [
      "Submitted batch job 1948\n"
     ]
    }
   ],
   "source": [
    "!sbatch submit.sh"
   ]
  },
  {
   "cell_type": "code",
   "execution_count": 23,
   "id": "2b444074-2543-4d11-abfd-0823f5805102",
   "metadata": {},
   "outputs": [
    {
     "name": "stdout",
     "output_type": "stream",
     "text": [
      "             JOBID PARTITION     NAME     USER ST       TIME  NODES NODELIST(REASON)\n",
      "              1947     debug     bash haipeng_  R       9:15      1 slurm-gp257-devel-compute-0-0\n",
      "               881   preempt     bash tculliso  R   18:50:18      1 slurm-gp257-devel-compute-3-0\n",
      "               529        t4     bash clapp_st  R 1-17:35:35      1 slurm-gp257-devel-compute-2-0\n"
     ]
    }
   ],
   "source": [
    "!squeue"
   ]
  },
  {
   "cell_type": "markdown",
   "id": "598f3ab1",
   "metadata": {},
   "source": [
    "# Slurm advanced\n",
    "\n",
    "Slurm also has a number of advanced options that can be quite useful.  \n",
    "\n",
    "## Resubmitting\n",
    "\n",
    "Clusters are always trying to maximize there usage.  As a result they often have a mechanism that allows unused resources used for free at or a reduced cost. In general you get to use these resources until someone who has/or is willing to pay/has paid a higher cost. At Stanford, the Sherlock clusters owner's queue operates in this manner. If you submit a job to the queue it will use all free resources if the owner of the resource requests those resources your job will be killed. GCP has the concept of preemitbible nodes, which opperate at a much lower cost, but the jobs can be killed at any time.\n",
    "\n",
    "Many applications can take advantage of these potentially killed resources.  They are ideal for jobs that take a short time and don't use many cores. Slurm provides the option --requeue to enable the use of these resources.  Any job that doesn't complete is automatically resubmitted to the queue.\n",
    "\n",
    "## Job arrays\n",
    "\n",
    "There are many cases where you want to run a series of very similar jobs. Each job could be submitted in sequence but this can overload a slurm controller load.  Slurm job arrays provide an effective way to approach these jobs. The command line option --array offers a potential solution. You can submit an array in many forms:\n",
    "\n",
    "- --array=0-31    # jobs 0 1 2 3 4 5 .. 31\n",
    "- --array=1,3,5,7 # jobs 1 3 5 7\n",
    "-  --array=1-7:2  # jobs 1 3 4 5 7\n",
    "\n",
    "Each job will set the environmental variable SLURM_ARRAY_TASK_ID with the corresponding ID.\n",
    "\n",
    "\n",
    "## Dependency\n",
    "\n",
    "Another powerful feature of slurm is the ability to build dependencies. Basically guarantee that a task doesn't start until a given condition has been met. You can set a dependency using --dependency=<type:job_id[:job_id] where type is one of the following.\n",
    "\n",
    "\n",
    "- after:jobid[:jobid...]\tjob can begin after the specified jobs have started\n",
    "- afterany:jobid[:jobid...]\tjob can begin after the specified jobs have terminated\n",
    "- afternotok:jobid[:jobid...]\tjob can begin after the specified jobs have failed\n",
    "- afterok:jobid[:jobid...]\tjob can begin after the specified jobs have run to completion with an exit code of zero (see the user guide for caveats).\n",
    "\n"
   ]
  },
  {
   "cell_type": "markdown",
   "id": "467bc972",
   "metadata": {},
   "source": [
    "# Complex submission\n",
    "\n",
    "A second way to calculate pi is to use random numbers. You can calculate pi by taking by \n",
    " - choosing two random numbers between 0 and 1\n",
    " - checking whether to sum of the squares of those numbers is <= 1\n",
    " - 4 times the fraction of numbers that meet this criteria will be equal to pi\n",
    "\n",
    "\n",
    "Your job is to\n",
    "\n",
    "- write a program that follows the above procedure to estimate pi using a large number of tests\n",
    "    - it should seed to random number generated based on reading the environmental variable SLURM_ARRAY_TASK_ID.\n",
    "    - it should write the estimate to a file that uses the SLURM_ARRAY_TASK_ID in its name\n",
    "- You should write a second program that reads a series of files with the name pattern above and averaes them and writes the result to result2.txt.\n",
    "- You should write two slurm submission scripts\n",
    "    - The First should submit to the preempt partition a job array of 10000 and resubmit if the job fails (make sure you test your code by running it on this node before submitting)\n",
    "    - The second job should depend on the first job finishing with an exit code 0 befofre running the second python script. This job should run on debug partition"
   ]
  },
  {
   "cell_type": "code",
   "execution_count": 24,
   "id": "b117f61b-e1fc-425a-b5df-021c2b4154e9",
   "metadata": {},
   "outputs": [
    {
     "name": "stdout",
     "output_type": "stream",
     "text": [
      "Overwriting random_pi.py\n"
     ]
    }
   ],
   "source": [
    "%%writefile random_pi.py\n",
    "#!/usr/bin/env python3\n",
    "\n",
    "import os\n",
    "import random\n",
    "\n",
    "task_id = os.environ.get('SLURM_ARRAY_TASK_ID')\n",
    "random.seed(task_id)\n",
    "\n",
    "in_circle = 0\n",
    "x = random.uniform(0, 1)\n",
    "y = random.uniform(0, 1)\n",
    "if x**2 + y**2 <= 1:\n",
    "    in_circle = 1\n",
    "\n",
    "f=open(f\"test_{task_id}.txt\",\"w\")\n",
    "f.write(f\"{in_circle}\")\n",
    "f.close()"
   ]
  },
  {
   "cell_type": "code",
   "execution_count": 56,
   "id": "7f17a02f-3bf9-4c1c-b12d-703b32c62fde",
   "metadata": {},
   "outputs": [
    {
     "name": "stdout",
     "output_type": "stream",
     "text": [
      "Overwriting ave_pi.py\n"
     ]
    }
   ],
   "source": [
    "%%writefile ave_pi.py\n",
    "#!/usr/bin/env python3\n",
    "\n",
    "ntask = 1000\n",
    "count = 0\n",
    "for task_id in range(ntask):\n",
    "    f=open(f\"test_{task_id}.txt\",\"r\")\n",
    "    count += float(f.read())\n",
    "    f.close()\n",
    "\n",
    "res = 4 * (count / ntask)\n",
    "\n",
    "f=open(\"result2.txt\",\"w\")\n",
    "f.write(f\"{res}\")\n",
    "f.close()"
   ]
  },
  {
   "cell_type": "code",
   "execution_count": 28,
   "id": "1e7d581d-64b2-432d-b457-0e445a0f35be",
   "metadata": {},
   "outputs": [
    {
     "name": "stdout",
     "output_type": "stream",
     "text": [
      "Overwriting submit1.sh\n"
     ]
    }
   ],
   "source": [
    "%%writefile submit1.sh\n",
    "#!/bin/bash\n",
    "#SBATCH --job-name=random_pi\n",
    "#SBATCH --partition=preempt\n",
    "#SBATCH --ntasks=1\n",
    "#SBATCH --cpus-per-task=1\n",
    "#SBATCH --time=02:00:00\n",
    "#SBATCH --mem-per-cpu=1GB\n",
    "#SBATCH --array=0-1000\n",
    "#SBATCH --requeue\n",
    "\n",
    "spack load python@3.10.8\n",
    "python3 ./random_pi.py  "
   ]
  },
  {
   "cell_type": "code",
   "execution_count": 30,
   "id": "fa3cf010-c2b3-43a7-bd4e-a3178785ed31",
   "metadata": {},
   "outputs": [
    {
     "name": "stdout",
     "output_type": "stream",
     "text": [
      "Submitted batch job 1949\n"
     ]
    }
   ],
   "source": [
    "!sbatch submit1.sh"
   ]
  },
  {
   "cell_type": "code",
   "execution_count": 57,
   "id": "2c637f7e-1aa9-40dc-a1f9-421365c140f1",
   "metadata": {},
   "outputs": [
    {
     "name": "stdout",
     "output_type": "stream",
     "text": [
      "Overwriting submit2.sh\n"
     ]
    }
   ],
   "source": [
    "%%writefile submit2.sh\n",
    "#!/bin/bash\n",
    "#SBATCH --job-name=random_pi\n",
    "#SBATCH --partition=debug\n",
    "#SBATCH --ntasks=1\n",
    "#SBATCH --cpus-per-task=1\n",
    "#SBATCH --time=02:00:00\n",
    "#SBATCH --mem-per-cpu=1GB\n",
    "#SBATCH --dependency=afterok:1949 \n",
    "\n",
    "spack load python@3.10.8\n",
    "python3 ./ave_pi.py  "
   ]
  },
  {
   "cell_type": "code",
   "execution_count": 58,
   "id": "73ab5d24-5149-4434-a3a5-78131a3da4c8",
   "metadata": {},
   "outputs": [
    {
     "name": "stdout",
     "output_type": "stream",
     "text": [
      "Submitted batch job 2953\n"
     ]
    }
   ],
   "source": [
    "!sbatch submit2.sh"
   ]
  },
  {
   "cell_type": "code",
   "execution_count": 60,
   "id": "9b98d59a-d99b-4853-8e39-72522b877767",
   "metadata": {},
   "outputs": [
    {
     "name": "stdout",
     "output_type": "stream",
     "text": [
      "             JOBID PARTITION     NAME     USER ST       TIME  NODES NODELIST(REASON)\n",
      "              1947     debug     bash haipeng_  R    1:48:16      1 slurm-gp257-devel-compute-0-0\n",
      "              2952     debug     bash jdstitt_  R       2:25      1 slurm-gp257-devel-compute-0-2\n",
      "               529        t4     bash clapp_st  R 1-19:14:36      1 slurm-gp257-devel-compute-2-0\n"
     ]
    }
   ],
   "source": [
    "!squeue"
   ]
  },
  {
   "cell_type": "markdown",
   "id": "4034b739",
   "metadata": {},
   "source": [
    "# Finishing up\n",
    "\n",
    "Add this lab to your class github site after adding all of the files that you have created for this lab."
   ]
  },
  {
   "cell_type": "code",
   "execution_count": null,
   "id": "9545010a-1045-48d0-b68e-09f5470f710c",
   "metadata": {},
   "outputs": [],
   "source": []
  }
 ],
 "metadata": {
  "kernelspec": {
   "display_name": "Python 3 (ipykernel)",
   "language": "python",
   "name": "python3"
  },
  "language_info": {
   "codemirror_mode": {
    "name": "ipython",
    "version": 3
   },
   "file_extension": ".py",
   "mimetype": "text/x-python",
   "name": "python",
   "nbconvert_exporter": "python",
   "pygments_lexer": "ipython3",
   "version": "3.10.8"
  }
 },
 "nbformat": 4,
 "nbformat_minor": 5
}
