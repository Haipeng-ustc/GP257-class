{
 "cells": [
  {
   "cell_type": "markdown",
   "id": "79b83b7a",
   "metadata": {},
   "source": [
    "\n",
    "# GPU Numba and CuPy Parallelization of Matrix Multiplication \n",
    "\n",
    "Similary to the multicore parallelization lab, in this lab we will be using Numba and CuPy to accelerate matrix-matrix multiplications using GPU. Accelerating the marrix-matrix multiplication operation is a good analog to accelerating other types of operators and computationally intense kernels, codes, and algorithms. Furthermore, the structure of matricies makes matrix-matrix multiplication a good place start learning how to parallelize code.\n",
    "\n",
    "\n",
    "## External Resources\n",
    "If you have any question regarding some specific Python functionality you can consult the official [Python documenation](http://docs.python.org/3/).\n",
    "\n",
    "* [Numba for CUDA](https://numba.readthedocs.io/en/stable/cuda/index.html)\n",
    "* [Writing Numba.CUDA kernels Notebook](https://github.com/ContinuumIO/gtc2017-numba/blob/master/4%20-%20Writing%20CUDA%20Kernels.ipynb)\n",
    "* [Numba.CUDA by Graham Markell](https://github.com/numba/nvidia-cuda-tutorial)\n",
    "* [NYU Numba CUDA Lab5](https://nyu-cds.github.io/python-numba/05-cuda/)\n",
    "* [CuPy Basics](https://docs.cupy.dev/en/stable/user_guide/basic.html)\n",
    "\n",
    "[//]: <> (GEOPHYS 257 Winter 2023)\n",
    "[//]: <> (Notebook Author: Thomas Cullison, Stanford University, Jan. 2023)"
   ]
  },
  {
   "cell_type": "markdown",
   "id": "cbff49d1",
   "metadata": {},
   "source": [
    "<br>\n",
    "\n",
    "### Exercise 0\n",
    "\n",
    "* You need to request a *T4* node on the cluster. Don't forget that you need to add **--gres=gpu** to your srun command.\n",
    "* Reminder: on the *T4* nodes you need to load a different version of Python:\n",
    "```bash\n",
    "spack load python@3.10.7\n",
    "```\n",
    "\n",
    "* Import every Python module, object, and/or function that you need below."
   ]
  },
  {
   "cell_type": "code",
   "execution_count": null,
   "id": "e913f671",
   "metadata": {},
   "outputs": [],
   "source": []
  },
  {
   "cell_type": "markdown",
   "id": "a00e9a09",
   "metadata": {},
   "source": [
    "<br>\n",
    "\n",
    "### Exercise 1: Matrix Transpose\n",
    "\n",
    "Before we examine matrix-matrix multiplication, we will first write a GPU kernel that transposes a square matrix.  This type of problem is a good introduction into how to use the CUDA threading model. The task for this exercise is to write a Numba CUDA kernel that will transpose a square matrix. \n",
    "\n",
    "**Before you start**, take a look at the following:\n",
    "* Read over the following notebook that explanes Numba.CUDA kernels: [Writing Numba.CUDA kernels Notebook](https://github.com/ContinuumIO/gtc2017-numba/blob/master/4%20-%20Writing%20CUDA%20Kernels.ipynb) \n",
    "* The first matrix-matrix multiplication code (the one that **doesn't** use shared memory) shown at [NYU Numba CUDA Lab5](https://nyu-cds.github.io/python-numba/05-cuda/). Understanding this code should give a pretty good idea on how to write the transpose kernel. The matrix-matrix kernel code from the NYU lab is shown below.\n",
    "```python\n",
    "@cuda.jit\n",
    "def matmul(A, B, C):\n",
    "    \"\"\"Perform matrix multiplication of C = A * B\n",
    "    \"\"\"\n",
    "    row, col = cuda.grid(2)\n",
    "    if row < C.shape[0] and col < C.shape[1]:\n",
    "        tmp = 0.\n",
    "        for k in range(A.shape[1]):\n",
    "            tmp += A[row, k] * B[k, col]\n",
    "        C[row, col] = tmp\n",
    "```\n",
    "\n",
    "**Tasks for this exercise**\n",
    "* Write a Numba.CUDA kernel that transpose an $NxN$ square matrix.\n",
    "* Be sure that the transpose kernel can transpose square matrices with sizes of $N$ as small as $N=2$ and as large as $N=10240$.\n",
    "* Using shared memory is **not** required.\n"
   ]
  },
  {
   "cell_type": "code",
   "execution_count": null,
   "id": "ba3f5c59",
   "metadata": {},
   "outputs": [],
   "source": []
  },
  {
   "cell_type": "markdown",
   "id": "12070622",
   "metadata": {},
   "source": [
    "<br>\n",
    "\n",
    "### Exercise 2: Using Numba CUDA to parallelize matrix multiplication: \n",
    "\n",
    "For this exercise, we will use Numba compiled GPU kernels that calculate matrix-matrix multiplication for square matrices. In particular, we will use a GPU kernel that doesn't used shared memory and compared to a GPU kernel that does use shared-memory. Please use the two kernel codes discussed in the following lab: [NYU Numba CUDA Lab5](https://nyu-cds.github.io/python-numba/05-cuda/). As you will see in this exercise, learning to use shared-memory (akin to user-controlled cache), can take a lot of practice, so in the next exercise, we examine how well the simple shared-memory kernel from the NYU lab compares to the optimized codes provided by NVIDIA in the CuPy package. \n",
    "\n",
    "#### The tasks for this exercise:\n",
    "1. Copy the matrix-matrix kernel codes from the NYU lab. Test them for accurracy against *numpy.dot()* and also compare time runtimes these GPU kernels the numpy.dot() function as well. **Note:** Use [CUDA events](https://numba.readthedocs.io/en/stable/cuda-reference/host.html#events) when timing GPU kernel calls because the driver does not \"block\" the calling process (for case this is IPython). Insted, the kernel is sent to the GPU to run, and then the process (IPython) immediately continues to it's next bit of code. Contrary to GPU kernel calls, calls to copy data to or from the GPU will block the process. For these cases, the calls can be timed the same way that other Python calls are timed.<br> **For both GPU kernels:**\n",
    "    - Test with square Matrices: $A,B \\in \\mathbb{R}^{N\\times N}$. For the cases when $N = 5120$, $N=10240$, and $N=20480$. **Tip**, first make sure you can get the GPU codes to work and that you get correct results by testing with $N_{test}=32$.\n",
    "    - For each $N$ above, test the multiplication for both dtypes: *dtype=float32* and *dtype=float64*.\n",
    "    - Calculate and show the error between your functions and the *numpy.dot()* function. \n",
    "    - Calculate and show the *speedup* (or *slowdown*) of your GPU kernel for each $N$ vs *numpy.dot()*. Be sure to include the array copy times in the \"total-gpu-kernel runtime.\n",
    "    - For each $N$ vs, calculate and show the *speedup* of your GPU kernel using *dtype=float32* vs *dtype=float64*. Be sure to include the array copy times in the \"total-gpu-kernel runtime.\"\n",
    "    \n",
    "<br>\n",
    "\n",
    "2. Create your matrices using random numbers. An example is shown below (feel free to copy this).\n",
    "\n",
    "```python\n",
    "h_A = np.random.random((N, N)).astype(np.<float-type>)\n",
    "h_B = np.random.random((N, N)).astype(np.<float-type>)\n",
    "```    \n",
    "<br>\n",
    "\n",
    "3. For the device memory:\n",
    "    - Create **d_A** and **d_B** by copying **h_A** and **h_B** to the GPU, and be sure to time the copies\n",
    "    - Create **d_C** as device-array that is allocated on the GPU (device) only, and not on the host (**Do Not Copy**)\n",
    "    \n",
    "<br>\n",
    "\n",
    "4. After the GPU matrix-matrix multiplication kernel finishes, **copy** the the *device-array* **d_C** to the *host-array* **h_C**, and be sure to time this copy.\n",
    "\n",
    "<br>\n",
    "\n",
    "5. Discuss your results in the markdown cell that follows your codes include in your discussion remarks about the speedup or slowdowns vs numpy as well as float32 vs float64. Remember, that your runtime for the GPU kernel include time to compile the kernel (not much you can do to control this). Futhermore, becasue you have to copy data to and off of the GPU, these copy times should be included in the \"total-gpu-kernel runtime.\" "
   ]
  },
  {
   "cell_type": "code",
   "execution_count": null,
   "id": "99735477",
   "metadata": {},
   "outputs": [],
   "source": []
  },
  {
   "cell_type": "markdown",
   "id": "a5f35012",
   "metadata": {},
   "source": [
    "<br>\n",
    "\n",
    "### Exercise 3: CuPy \n",
    "\n",
    "For this exercise, we will repeat what we did in *Exercise 2*. However, we will use *CuPy* functions, which are similar to *Numpy* funcstions with some added functions for copying data to-the-device-from-the-host and to-the-host-from-the-device. By using CuPy, we can depend on code that has been optimized for the GPU by NVIDIA, and instead of tyring to optimize our matrix-matrix multiplication kernels, we can use a built-in function to calculate the multiplication instead (i.e. [cupy.dot()](https://docs.cupy.dev/en/stable/reference/generated/cupy.dot.html#cupy.dot)).\n",
    "\n",
    "**Tasks for this exercise:**\n",
    "* Same as those listed in *Exercise 2*, but compare *cupy.dot()* to *numpy.dot()*.\n",
    "* Also, reuse the host-arrays, *h_A* and *h_B* above. You will need to call the appropriate *CuPy* fuctions to copy these arrays to the GPU and to copy the result back to the host. You will **not** need to declare the deive-C array before calling *cupy.dot()* because the function will do it for you (like numpy does).\n"
   ]
  },
  {
   "cell_type": "code",
   "execution_count": null,
   "id": "2d6103d9",
   "metadata": {},
   "outputs": [],
   "source": []
  },
  {
   "cell_type": "markdown",
   "id": "294e1dfb",
   "metadata": {},
   "source": [
    "<br>\n",
    "\n",
    "### Exercise $\\mathbf{\\pi}$: CuPy Interoperability\n",
    "\n",
    "Numba and CuPy device arrays (GPU arrays) can be accept each other's arrays. See [Interoperability](https://docs.cupy.dev/en/stable/user_guide/interoperability.html).\n",
    "\n",
    "**Tasks for this exercise**\n",
    "* Use the **device** arrays, **d_A** and **d_B**, that were created in *Exercise 2* to calculate the matrix-matrix multiplcation using *cupy.dot()*.\n",
    "* Verify that you get the same results as you did in *Exercise 3*.\n",
    "* You will need to \"wrap\" the device arrays before passing them to *cupy.dot()*. Read the *Interoperability* documentation linked above.\n",
    "    - Time how long it takes (runtime) to \"wrap\" these arrays.\n",
    "    - Compare this runtime to the runtime it took to create the device arrays in *Exercise 3*.\n",
    "    - Provide a quick comment your thoughts on the runtime differences compared above."
   ]
  },
  {
   "cell_type": "code",
   "execution_count": null,
   "id": "7dbb6d9e",
   "metadata": {},
   "outputs": [],
   "source": []
  }
 ],
 "metadata": {
  "kernelspec": {
   "display_name": "Python 3 (ipykernel)",
   "language": "python",
   "name": "python3"
  },
  "language_info": {
   "codemirror_mode": {
    "name": "ipython",
    "version": 3
   },
   "file_extension": ".py",
   "mimetype": "text/x-python",
   "name": "python",
   "nbconvert_exporter": "python",
   "pygments_lexer": "ipython3",
   "version": "3.10.7"
  }
 },
 "nbformat": 4,
 "nbformat_minor": 5
}
