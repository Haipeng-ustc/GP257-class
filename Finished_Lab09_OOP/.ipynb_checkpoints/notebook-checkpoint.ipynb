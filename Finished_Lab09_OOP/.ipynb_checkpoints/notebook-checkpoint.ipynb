{
 "cells": [
  {
   "cell_type": "markdown",
   "metadata": {},
   "source": [
    "# OOP basics\n",
    "\n",
    "Object Oriented Programing (OOP) is designed to be intuitive. Unfortuantely, if your experience is limited to functional programming it can be challenging to begin with. In this lab you are going to learn some of the basics of OOP, hopefully sufficient for what you need for this class. \n",
    "\n",
    "# Initialization and member functions\n",
    "\n",
    "The basic idea of OOP is that everything is an object. An object can contain both properties and functions. When we create an object we not to tell how to initialize the object.  For example in the next cell we create a kid object with three properties (name, age, and school), and run one of its functions."
   ]
  },
  {
   "cell_type": "code",
   "execution_count": 1,
   "metadata": {
    "scrolled": true
   },
   "outputs": [
    {
     "name": "stdout",
     "output_type": "stream",
     "text": [
      "Hi my name is Sydney and I am 12 years old and go to SMS\n"
     ]
    }
   ],
   "source": [
    "class kid:\n",
    "    \"\"\"A simple class describing a kid\"\"\"\n",
    "    def __init__(self, name, age,school): #In Python have function that access memmber properties must include self\n",
    "        \"\"\"Initialize a kid object with their name, age, and school\"\"\"\n",
    "        self.name=name  #The self.name  assigns it to a variable of the class\n",
    "        self.age=age\n",
    "        self.school=school\n",
    "    def tellMeAboutYourself(self):\n",
    "        \"\"\"Give me the basic info\"\"\"\n",
    "        print(\"Hi my name is %s and I am %d years old and go to %s\"%(self.name,self.age,self.school))\n",
    "    \n",
    "k=kid(\"Sydney\",14,\"Fremont\")\n",
    "k.tellMeAboutYourself()"
   ]
  },
  {
   "cell_type": "markdown",
   "metadata": {},
   "source": [
    "# Inheritence\n",
    "\n",
    "One of the powerful concepts in OOP is the concept of inheritance. With inheritance you define a generic type, then create new objects that inherit from the generic type. Any object of the inherited type can run the methods of its parent class. It can also choose to override these methods. Take a look at the code below.  Not how the *opinion* class in *movie* is overriden by its two children.  Also note how each child class uses the *super()* function to call ints parents initialization function."
   ]
  },
  {
   "cell_type": "code",
   "execution_count": 2,
   "metadata": {},
   "outputs": [
    {
     "name": "stdout",
     "output_type": "stream",
     "text": [
      "The movie Attack of the Clones was an embaresment\n",
      "140\n",
      "The movie A new hope is quite good\n",
      "120\n",
      "This movie Star Trek is good\n",
      "130\n",
      "No opinion on  Blazing Saddles\n",
      "108\n"
     ]
    }
   ],
   "source": [
    "class movie:\n",
    "    \"\"\"A generic class for a movie\"\"\"\n",
    "    def __init__(self,name,length):\n",
    "        self.name=name\n",
    "        self.length=length\n",
    "    def opinion(self):\n",
    "        print(\"No opinion on  %s\"%self.name)\n",
    "    def getLength(self):\n",
    "        return self.length\n",
    "\n",
    "class sciFiMovie(movie):\n",
    "    def __init__(self,name,length):\n",
    "        super().__init__(name,length)\n",
    "    def opinion(self):\n",
    "        print(\"This movie %s is good\"%self.name)\n",
    "        \n",
    "class starWarsMovie(sciFiMovie):\n",
    "    def __init__(self,name,length,num):\n",
    "        super().__init__(name,length)\n",
    "        self.num=num\n",
    "    def opinion(self):\n",
    "        if self.num<4:\n",
    "            print(\"The movie %s was an embaresment\"%(self.name)) \n",
    "        else:\n",
    "            print(\"The movie %s is quite good\"%self.name)\n",
    "movies=[]\n",
    "movies.append(starWarsMovie(\"Attack of the Clones\",140,2))\n",
    "movies.append((starWarsMovie(\"A new hope\",120,4)))\n",
    "movies.append(sciFiMovie(\"Star Trek\",130))\n",
    "movies.append(movie(\"Blazing Saddles\",108))\n",
    "for m in movies:\n",
    "    m.opinion()\n",
    "    print(m.getLength())"
   ]
  },
  {
   "cell_type": "markdown",
   "metadata": {},
   "source": [
    "# Abstract classes (and concrete classes)\n",
    "\n",
    "A special type of parent class is an abstract class. An abstract class is one where we've defined the interface for member functions but doesn't  have a  default implementation.  In the following python code you will see an example of an abstract class *shape*.  "
   ]
  },
  {
   "cell_type": "code",
   "execution_count": 10,
   "metadata": {},
   "outputs": [
    {
     "name": "stdout",
     "output_type": "stream",
     "text": [
      "The point 2,2 in circle= False  in rectangle1= True\n",
      "Our c and r the same object= False  how about r and r2= True\n"
     ]
    }
   ],
   "source": [
    "import sys #So we can exit with an error\n",
    "class shape:\n",
    "    \"\"\"A virtual class for defining a shape\"\"\"\n",
    "    def __init__(self):\n",
    "        \"\"\"Default initialization class\"\"\"\n",
    "        pass; #Don't have anything to do\n",
    "    def inShape(self,ix,iy):\n",
    "        \"\"\" Check to see if the point (ix,iy) inside a shape\"\"\"\n",
    "        print(\"inShape has not been overritten\")\n",
    "        sys.exit(-1) #exit with an error\n",
    "    def sameShape(self,s):\n",
    "        \"\"\" Check to see if s is the same shape as the object\"\"\"\n",
    "        print(\"sameShape has not been overritten\")\n",
    "        sys.exit(1)\n",
    "\n",
    "class rectangle(shape): #Definie a rectangle with the parent class shape\n",
    "    \"\"\"Basic rectangle class\"\"\"\n",
    "    def __init__(self,left,right,top,bot):\n",
    "        \"\"\" Initializate a rectangle\n",
    "        left,right,top,bot - describe rectangle coordinates\"\"\"\n",
    "        super(rectangle, self).__init__()\n",
    "        self.left=left\n",
    "        self.right=right\n",
    "        self.top=top\n",
    "        self.bot=bot\n",
    "    def inShape(self,ix,iy):\n",
    "        \"\"\"Check to see if ix,iy is inside the rectangle\"\"\"\n",
    "        if ix >= self.left and ix<= self.right and iy>=self.top and  iy<=self.bot:\n",
    "            return True\n",
    "        else:\n",
    "            return False\n",
    "    def sameShape(self,s):\n",
    "        \"\"\"Return true if s is a rectangle\"\"\"\n",
    "        return isinstance(s,rectangle)\n",
    "class circle(shape): #Definie a circle with the parent class shape\n",
    "    \"\"\"Basic circle class\"\"\"\n",
    "    def __init__(self,cx,cy,rad):\n",
    "        \"\"\" Initializate a rectangle\n",
    "        cx,cy - Center of the circle\n",
    "        rad - radius of the circle\"\"\"\n",
    "        super(circle, self).__init__()\n",
    "        self.cx=cx\n",
    "        self.cy=cy\n",
    "        self.rad=rad\n",
    "    def inShape(self,ix,iy):\n",
    "        \"\"\"Check to see if ix,iy is inside the rectangle\"\"\"\n",
    "        if (ix-self.cx)*(ix-self.cx)+(iy-self.cy)*(iy-self.cy)<=self.rad*self.rad:\n",
    "            return True\n",
    "        else:\n",
    "            return False\n",
    "    def sameShape(self,s):\n",
    "        \"\"\"Return true if s is a rectangle\"\"\"\n",
    "        return isinstance(s,circle)\n",
    "\n",
    "\n",
    "r=rectangle(0,10,0,10)\n",
    "r2=rectangle(14,14,20,20)\n",
    "c=circle(7,7,4)\n",
    "print(\"The point 2,2 in circle=\",c.inShape(2,2),\" in rectangle1=\",r.inShape(2,2))\n",
    "print(\"Our c and r the same object=\",c.sameShape(r),\" how about r and r2=\",r.sameShape(r2))\n",
    "\n"
   ]
  },
  {
   "cell_type": "markdown",
   "metadata": {},
   "source": [
    "There are many thing to observe in this class.\n",
    "Next notice the function *sameShape* it takes as an argument the virtual class *shape*.  THe argument *s* can only use\n",
    "memebers of the *shape* class. In the *rectangle* *sameShape* function we use the *isinstance* function to check to see if *s* is of the *rectangle* class.\n"
   ]
  },
  {
   "cell_type": "markdown",
   "metadata": {},
   "source": [
    "# Part 1: Making a vector class (python)\n",
    "\n",
    "Object oriented programming has many advantages over functional programing.  In applied sciences one advantage of object oriented programming is that we can take advantage of high-end optimization (inversion) libraries by following an object oriented model.  In this exercise you will be building some of the building blocks necessary for this approach.\n",
    "\n",
    "The first abstract concept we will introduce is a vector.  A vector is a mathematical concept that can perform a set of operations. For this exercise we will limit ourselves to following size functions:\n",
    "  - add(vec) Add the contents of another vector to the current vector\n",
    "  - scale(sc) Scale a vector by a float\n",
    "  - clone() Make a copy of the current vector\n",
    "  - checkSame() Make sure the vector exists in the vectorSpace\n",
    "  - dot(vec) Calculate the dot product of the current vector with another vector\n",
    "  - random() Fill vector with random numbers\n",
    "  -getNdArray() Return a numpy array version of the vector\n",
    "\n",
    "In the next cell you fill find the abstract definition of the vector.\n"
   ]
  },
  {
   "cell_type": "code",
   "execution_count": 8,
   "metadata": {},
   "outputs": [],
   "source": [
    "import sys\n",
    "\n",
    "class myVector:\n",
    "    \"\"\"An abstract vector class\"\"\"\n",
    "    def __init__(self):\n",
    "        pass;\n",
    "    def die(self,cls):\n",
    "        \"\"\" Helper function to exit when class in not defined\"\"\"\n",
    "        print(\"Method \",cls,\" has not been overritten\")\n",
    "        self.exit(-1)\n",
    "    def add(self,vec):\n",
    "        \"\"\"Add the contents of another vector to the current vector\"\"\"\n",
    "        self.die(\"add\")\n",
    "    def scale(self,vec):\n",
    "        \"\"\"Scale a vector by a scalar\"\"\"\n",
    "        self.die(\"scale\")\n",
    "    def clone(self):\n",
    "        \"\"\"Make a copy of the vector\"\"\"\n",
    "        self.die(\"clone\")\n",
    "    def dot(self,vec):\n",
    "        \"\"\"Dot product with another vector\"\"\"\n",
    "        self.die(\"dot\")\n",
    "    def random(self):\n",
    "        \"\"\"Fill vector with random numbers\"\"\"\n",
    "        self.die(\"random\")\n",
    "    def getNdArray(self):\n",
    "        \"\"\"Return a numpy array version of the vector\"\"\"\n",
    "        self.die(\"getNdArray\")"
   ]
  },
  {
   "cell_type": "markdown",
   "metadata": {},
   "source": [
    "Finish filling out the template below to create a class stlVector that implements a concrete version of myVector using numpy vectors as storage.\n"
   ]
  },
  {
   "cell_type": "code",
   "execution_count": 12,
   "metadata": {},
   "outputs": [],
   "source": [
    "import numpy\n",
    "class stlVector:\n",
    "    \"\"\"An concrete vector class using numpy arrays\"\"\"\n",
    "    def __init__(self,n):\n",
    "        super(stlVector, self).__init__()\n",
    "        self._ar=mumpy.zeros(n)\n",
    "    def die(self,cls):\n",
    "        \"\"\" Helper function to exit when class in not defined\"\"\"\n",
    "        pass;\n",
    "    def add(self,vec):\n",
    "        \"\"\"Add the contents of another vector to the current vector\"\"\"\n",
    "        pass;\n",
    "    def scale(self,vec):\n",
    "        \"\"\"Scale a vector by a scalar\"\"\"\n",
    "        pass;\n",
    "    def clone(self):\n",
    "        \"\"\"Make a copy of the vector\"\"\"\n",
    "        pass;\n",
    "    def dot(self,vec):\n",
    "        \"\"\"Dot product with another vector\"\"\"\n",
    "        pass;\n",
    "    def random(self):\n",
    "        \"\"\"Fill vector with random numbers\"\"\"\n",
    "        self.die(\"random\")\n",
    "    def getNdArray(self):\n",
    "        \"\"\"Return a numpy array version of the vector\"\"\"\n",
    "        return self._ar"
   ]
  },
  {
   "cell_type": "markdown",
   "metadata": {},
   "source": [
    "Your job is to fill in the functions in the following cell to make a concrete class composed of std c++ vectors. Only two of the functions need additional work. "
   ]
  },
  {
   "cell_type": "markdown",
   "metadata": {},
   "source": [
    "You can use the next cell to see if your answer makes sense."
   ]
  },
  {
   "cell_type": "code",
   "execution_count": 10,
   "metadata": {},
   "outputs": [
    {
     "data": {
      "text/plain": [
       "[<matplotlib.lines.Line2D at 0x1117ddb70>]"
      ]
     },
     "execution_count": 10,
     "metadata": {},
     "output_type": "execute_result"
    },
    {
     "data": {
      "image/png": "[encoded data removed]",
      "text/plain": [
       "<Figure size 432x288 with 1 Axes>"
      ]
     },
     "metadata": {},
     "output_type": "display_data"
    }
   ],
   "source": [
    "%matplotlib inline\n",
    "import numpy\n",
    "import matplotlib.pyplot as plt\n",
    "v1=stlVector(5)\n",
    "v2=stlVector(5)\n",
    "\n",
    "vec1=v1.getNdArray()\n",
    "vec2=v2.getNdArray()\n",
    "\n",
    "for i in range(5):\n",
    "    vec1[i]=i/2.\n",
    "    vec2[i]=4-i\n",
    "\n",
    "v3=v1.clone()\n",
    "vec3=v3.getNdArray()\n",
    "\n",
    "v3.scale(2.)\n",
    "v3.add(v2)\n",
    "\n",
    "plt.plot(vec1)\n",
    "plt.plot(vec2)\n",
    "plt.plot(vec3)"
   ]
  },
  {
   "cell_type": "code",
   "execution_count": null,
   "metadata": {},
   "outputs": [],
   "source": []
  },
  {
   "cell_type": "markdown",
   "metadata": {},
   "source": [
    "# Part 2: Operator class\n",
    "\n",
    "\n"
   ]
  },
  {
   "cell_type": "code",
   "execution_count": 13,
   "metadata": {},
   "outputs": [],
   "source": [
    "import math\n",
    "class myOperator:\n",
    "    \"\"\"Generic operator class\"\"\"\n",
    "    def __init__(self):\n",
    "        pass;\n",
    "    def setDomainRange(self,domainV,rangeV):\n",
    "        \"\"\"Set the domain and range vectors\"\"\"\n",
    "        self.domainV=domainV.clone()\n",
    "        self.rangeV=rangeV.clone()\n",
    "    def checkDomainRange(self,mod,dat):\n",
    "        \"\"\"Check to make sure spaces match mod->domain dat->range\"\"\"\n",
    "        if not self.domainV.checkSame(mod):\n",
    "            raise Exception(\"Domain does not match\")\n",
    "        if not self.rangeV.checkSame(dat):\n",
    "            raise Exception(\"Range does not match\")\n",
    "    def forward(self,add,model,data):\n",
    "        raise Exception(\"Must override forward\")\n",
    "    def adjoint(self,add,model,data):\n",
    "        raise Exception(\"Must override adjoint\")\n",
    "    def dotProduct(self):\n",
    "        x=self.domainV.clone()\n",
    "        x2=self.domainV.clone()\n",
    "        y=self.rangeV.clone()\n",
    "        y2=self.rangeV.clone()\n",
    "        x.rand()\n",
    "        y.rand()\n",
    "        self.forward(False,x,y2)\n",
    "        self.adjoint(False,x2,y)\n",
    "        if(math.abs(x.dot(x2) -y.dot(y2)) >1e-4):\n",
    "           raise Exception(\"Does not pass product test\")\n",
    "    "
   ]
  },
  {
   "cell_type": "markdown",
   "metadata": {},
   "source": [
    "The abstract functions are the *forward* and *adjoint*. From what you've seen in the above sections you should be able to inherit from this class a concrete operator class (something that has a valid definition of the forward and adjoint). The class should takes as inputs the stlVector class above and uses the getNdArray function to turn them into numpy arrays that you can operate with in python.   Write an operator (derivative, matrix multiply, etc) and use the *dotProduct* function to see if your *adjoint* is truly the adjoint of your *forward*."
   ]
  },
  {
   "cell_type": "code",
   "execution_count": null,
   "metadata": {},
   "outputs": [],
   "source": [
    "     "
   ]
  },
  {
   "cell_type": "markdown",
   "metadata": {},
   "source": [
    "# "
   ]
  }
 ],
 "metadata": {
  "kernelspec": {
   "display_name": "Python 3 (ipykernel)",
   "language": "python",
   "name": "python3"
  },
  "language_info": {
   "codemirror_mode": {
    "name": "ipython",
    "version": 3
   },
   "file_extension": ".py",
   "mimetype": "text/x-python",
   "name": "python",
   "nbconvert_exporter": "python",
   "pygments_lexer": "ipython3",
   "version": "3.9.13"
  },
  "latex_envs": {
   "LaTeX_envs_menu_present": true,
   "autoclose": false,
   "autocomplete": true,
   "bibliofile": "biblio.bib",
   "cite_by": "apalike",
   "current_citInitial": 1,
   "eqLabelWithNumbers": true,
   "eqNumInitial": 1,
   "hotkeys": {
    "equation": "Ctrl-E",
    "itemize": "Ctrl-I"
   },
   "labels_anchors": false,
   "latex_user_defs": false,
   "report_style_numbering": false,
   "user_envs_cfg": false
  },
  "toc": {
   "base_numbering": 1,
   "nav_menu": {},
   "number_sections": true,
   "sideBar": true,
   "skip_h1_title": false,
   "title_cell": "Table of Contents",
   "title_sidebar": "Contents",
   "toc_cell": false,
   "toc_position": {},
   "toc_section_display": true,
   "toc_window_display": false
  }
 },
 "nbformat": 4,
 "nbformat_minor": 4
}
